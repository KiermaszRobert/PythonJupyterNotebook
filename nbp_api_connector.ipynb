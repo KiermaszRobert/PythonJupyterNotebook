{
 "cells": [
  {
   "cell_type": "markdown",
   "id": "671bd7cb",
   "metadata": {},
   "source": [
    "Zadanie kwalifikacyjne:\n",
    "W oparciu o dane dotyczące kursów walut wyciągane za pomocą API NBP (http://api.nbp.pl/)\n",
    "prosimy o przygotowanie programu automatyzującego analizę inwestycji w 3 wybrane waluty.\n",
    "Inwestowaną kwotą jest 1000 zł, które ma być w całości przeznaczone na zakup 3 walut\n",
    "przechowywanych przez okres 30 dni.\n",
    "\n",
    "• Data rozpoczęcia może być parametrem wejściowym ew. procedury.\n",
    "\n",
    "• Procentowy podział 3 walut może być również określony losowo lub jako parametr\n",
    "(np. 30% USD, 40% EUR, 30%HUF).\n",
    "Celem zadania jest automatyzacja tej analizy i prezentacja wniosków ( max. 1 strona / 1 slajd )\n",
    "omawiająca historię tej inwestycji:\n",
    "    \n",
    "A. Prezentacja może być oparta na wykresach powstających automatycznie w Twoim\n",
    "programie\n",
    "\n",
    "B. Prezentacja (slajd lub dashboard) powinna odpowiadać na przykładowe pytania:\n",
    "- jak procentowo rozłożona była inwestowana kwota ?\n",
    "\n",
    "- jak zmieniała się wartość Twojego portfela ?\n",
    "\n",
    "- jak wyglądał procentowy udział walut na końcu okresu inwestycji ?\n",
    "\n",
    "\n",
    "Ważne!\n",
    "\n",
    "2. Inwestycja nie musi być dochodowa\n",
    "– poszukiwanie najbardziej dochodowej inwestycji nie jest celem tego zadania\n",
    "3. Dla uproszczenia analizy można posłużyć się średnim kursem i nie musisz uwzględniać\n",
    "różnych cen zakupu i sprzedaży\n",
    "4. Waluty są kupowane we wskazanej dacie i po 30 dniach jest oceniana wartość portfela\n",
    "– w tym okresie nie są dokonywane żadne dodatkowe transakcje kupna/sprzedaży."
   ]
  },
  {
   "cell_type": "code",
   "execution_count": 1,
   "id": "dc9a36ad",
   "metadata": {},
   "outputs": [],
   "source": [
    "import pandas as pd \n",
    "import numpy as np\n",
    "import datetime\n",
    "import ipywidgets as widgets\n",
    "import matplotlib.pyplot as plt\n",
    "import numpy as np\n",
    "from IPython.display import clear_output"
   ]
  },
  {
   "cell_type": "code",
   "execution_count": 2,
   "id": "6f09d6b6",
   "metadata": {},
   "outputs": [],
   "source": [
    "import requests\n",
    "TabelaA = requests.get(\"http://api.nbp.pl/api/exchangerates/tables/A/\")\n",
    "TabelaA = TabelaA.json()\n",
    "mindate=datetime.date(2002, 2, 1)\n",
    "maxdate=datetime.datetime.strptime(TabelaA[0][\"effectiveDate\"], \"%Y-%m-%d\").date() - datetime.timedelta(days=30)"
   ]
  },
  {
   "cell_type": "code",
   "execution_count": 3,
   "id": "ecf3fcae",
   "metadata": {},
   "outputs": [],
   "source": [
    "currency_list = []\n",
    "for i in range(0, len(TabelaA[0][\"rates\"])):\n",
    "    currency_list.append(TabelaA[0][\"rates\"][i][\"code\"])"
   ]
  },
  {
   "cell_type": "code",
   "execution_count": 4,
   "id": "c5a6366a",
   "metadata": {},
   "outputs": [],
   "source": [
    "def choose_currency(currency):\n",
    "    \"\"\"\n",
    "    Print the current widget value in short sentence\n",
    "    \"\"\"\n",
    "    return currency\n",
    "     \n",
    "w1=widgets.Dropdown(\n",
    "    options=currency_list,\n",
    "    value='THB',\n",
    "    description='currency:',\n",
    "    disabled=False)           \n",
    "w2=widgets.Dropdown(\n",
    "    options=currency_list,\n",
    "    value='USD',\n",
    "    description='currency:',\n",
    "    disabled=False)  \n",
    "w3=widgets.Dropdown(\n",
    "    options=currency_list,\n",
    "    value='AUD',\n",
    "    description='currency:',\n",
    "    disabled=False)  \n",
    "\n",
    "date=widgets.DatePicker(description='Pick a Date',value=datetime.datetime(2023, 2, 1))\n",
    "\n",
    "button = widgets.Button(description=\"Generate output!\")\n",
    "output = widgets.Output()"
   ]
  },
  {
   "cell_type": "code",
   "execution_count": 5,
   "id": "dc26895a",
   "metadata": {},
   "outputs": [],
   "source": [
    "w4=widgets.IntText(\n",
    "    value=1000,\n",
    "    description='Stock:',\n",
    "    disabled=False\n",
    ")\n",
    "w1a=widgets.FloatSlider(\n",
    "    value=0.333,\n",
    "    min=0,\n",
    "    max=1,\n",
    "    step=0.001,\n",
    "    description='Percentage stock:',\n",
    "    disabled=False,\n",
    "    continuous_update=False,\n",
    "    orientation='horizontal',\n",
    "    readout=True,\n",
    "    readout_format='.3f',\n",
    ")\n",
    "w2a=widgets.FloatSlider(\n",
    "    value=0.333,\n",
    "    min=0,\n",
    "    max=1,\n",
    "    step=0.001,\n",
    "    description='Percentage stock:',\n",
    "    disabled=False,\n",
    "    continuous_update=False,\n",
    "    orientation='horizontal',\n",
    "    readout=True,\n",
    "    readout_format='.3f',\n",
    ")\n",
    "w3a=widgets.FloatSlider(\n",
    "    value=0.334,\n",
    "    min=0,\n",
    "    max=1,\n",
    "    step=0.001,\n",
    "    description='Percentage stock:',\n",
    "    disabled=False,\n",
    "    continuous_update=False,\n",
    "    orientation='horizontal',\n",
    "    readout=True,\n",
    "    readout_format='.3f',\n",
    ")\n",
    "\n",
    "def handle_slider_change1(change):\n",
    "    w2a.value = w2a.value-(change.new-change.old)\n",
    "    if w1a.value + w1a.value + w1a.value != 0:\n",
    "        w3a.value=1-w1a.value-w2a.value\n",
    "    \n",
    "w1a.observe(handle_slider_change1, names='value')\n",
    "\n",
    "def handle_slider_change2(change):\n",
    "    w3a.value = w3a.value-(change.new-change.old)\n",
    "\n",
    "w2a.observe(handle_slider_change2, names='value')\n",
    "\n",
    "def handle_slider_change3(change):\n",
    "    if w1a.value + w1a.value + w1a.value != 0:\n",
    "        w2a.value=1-w3a.value-w1a.value\n",
    "\n",
    "w3a.observe(handle_slider_change3, names='value')\n",
    "\n",
    "def handle_stock_change(change):\n",
    "    w4.value = 1000\n",
    "        \n",
    "w4.observe(handle_stock_change, names='value')\n",
    "\n",
    "def date_change(change):\n",
    "    if date.value < mindate:\n",
    "        date.value = mindate \n",
    "    if date.value >  maxdate:\n",
    "        date.value = maxdate\n",
    "        \n",
    "date.observe(date_change, names='value')\n",
    "        \n",
    "def calculate_changes(currency=w1.value, date=date.value):\n",
    "    stringBuilder = \"http://api.nbp.pl/api/exchangerates/rates/A/\"\n",
    "                +currency+\"/\"\n",
    "                +str(date)\n",
    "                +\"/\"\n",
    "                +str(date + datetime.timedelta(days=30))\n",
    "                +\"/?format=json\"\n",
    "    Currency1 = requests.get(stringBuilder)\n",
    "    Currency1  = Currency1.json()\n",
    "    Currency1list = []\n",
    "    for x in Currency1[\"rates\"]:\n",
    "      wartosc=float(x.get(\"mid\"))\n",
    "      Currency1list.append(wartosc)\n",
    "    Changes = []\n",
    "    for i in range(0, len(Currency1list)-1):\n",
    "        Changes.append(Currency1list[i]/Currency1list[i+1])\n",
    "    return Changes\n",
    "\n",
    "def calculate_portfolio(currency1=w1.value, pct1=w1a.value,\n",
    "                        currency2=w2.value, pct2=w2a.value,\n",
    "                        currency3=w3.value, pct3=w3a.value,\n",
    "                        stock=w4.value, date=date.value):\n",
    "    Changes1=calculate_changes(currency=currency1, date=date)\n",
    "    Changes2=calculate_changes(currency=currency2, date=date)\n",
    "    Changes3=calculate_changes(currency=currency2, date=date)\n",
    "    pct1=pct1*stock\n",
    "    pct2=pct2*stock\n",
    "    pct3=pct3*stock\n",
    "    Portfolio_value=[]\n",
    "    Portfolio_value.append(pct1+pct2+pct3)\n",
    "    for i in range(0, len(Changes1)):\n",
    "        pct1=pct1*Changes1[i]\n",
    "        pct2=pct2*Changes2[i]\n",
    "        pct3=pct3*Changes3[i]\n",
    "        Portfolio_value.append(pct1+pct2+pct3)\n",
    "    print(str(currency1) + \" in stock: \" + str(pct1)+\". pct: \"+str(pct1/(pct1+pct2+pct3)))\n",
    "    print(str(currency2) + \" in stock: \" + str(pct2)+\". pct: \"+str(pct2/(pct1+pct2+pct3)))\n",
    "    print(str(currency3) + \" in stock: \" + str(pct3)+\". pct: \"+str(pct3/(pct1+pct2+pct3)))\n",
    "    print(\"Stock value: \" +str((pct1+pct2+pct3)))\n",
    "    return Portfolio_value\n",
    "\n",
    "try:\n",
    "  date.value=date.value.date()\n",
    "except:\n",
    "  print(\"warning, date transformed before\")"
   ]
  },
  {
   "cell_type": "code",
   "execution_count": 6,
   "id": "adc29143",
   "metadata": {},
   "outputs": [
    {
     "data": {
      "application/vnd.jupyter.widget-view+json": {
       "model_id": "0f89d4b8b5044edd9a0770a286f40338",
       "version_major": 2,
       "version_minor": 0
      },
      "text/plain": [
       "IntText(value=1000, description='Stock:')"
      ]
     },
     "metadata": {},
     "output_type": "display_data"
    },
    {
     "data": {
      "application/vnd.jupyter.widget-view+json": {
       "model_id": "de454d825f5648ea8b08e83be8d23e1b",
       "version_major": 2,
       "version_minor": 0
      },
      "text/plain": [
       "Dropdown(description='currency:', options=('THB', 'USD', 'AUD', 'HKD', 'CAD', 'NZD', 'SGD', 'EUR', 'HUF', 'CHF…"
      ]
     },
     "metadata": {},
     "output_type": "display_data"
    },
    {
     "data": {
      "application/vnd.jupyter.widget-view+json": {
       "model_id": "4eb8c90d325f4603a4f0c2c9a6ce382b",
       "version_major": 2,
       "version_minor": 0
      },
      "text/plain": [
       "FloatSlider(value=0.333, continuous_update=False, description='Percentage stock:', max=1.0, readout_format='.3…"
      ]
     },
     "metadata": {},
     "output_type": "display_data"
    },
    {
     "data": {
      "application/vnd.jupyter.widget-view+json": {
       "model_id": "d14b580733964810809e3f2e85dad080",
       "version_major": 2,
       "version_minor": 0
      },
      "text/plain": [
       "Dropdown(description='currency:', index=1, options=('THB', 'USD', 'AUD', 'HKD', 'CAD', 'NZD', 'SGD', 'EUR', 'H…"
      ]
     },
     "metadata": {},
     "output_type": "display_data"
    },
    {
     "data": {
      "application/vnd.jupyter.widget-view+json": {
       "model_id": "98544cd872394aa4987d1145a9a5d4c3",
       "version_major": 2,
       "version_minor": 0
      },
      "text/plain": [
       "FloatSlider(value=0.333, continuous_update=False, description='Percentage stock:', max=1.0, readout_format='.3…"
      ]
     },
     "metadata": {},
     "output_type": "display_data"
    },
    {
     "data": {
      "application/vnd.jupyter.widget-view+json": {
       "model_id": "efe84a4e02e546fcb8d6a42d0ae14d22",
       "version_major": 2,
       "version_minor": 0
      },
      "text/plain": [
       "Dropdown(description='currency:', index=2, options=('THB', 'USD', 'AUD', 'HKD', 'CAD', 'NZD', 'SGD', 'EUR', 'H…"
      ]
     },
     "metadata": {},
     "output_type": "display_data"
    },
    {
     "data": {
      "application/vnd.jupyter.widget-view+json": {
       "model_id": "378e6c664de14af6a76a6e90c34a2044",
       "version_major": 2,
       "version_minor": 0
      },
      "text/plain": [
       "FloatSlider(value=0.334, continuous_update=False, description='Percentage stock:', max=1.0, readout_format='.3…"
      ]
     },
     "metadata": {},
     "output_type": "display_data"
    },
    {
     "data": {
      "application/vnd.jupyter.widget-view+json": {
       "model_id": "dcf11ee6db924054a196499ff1a0da34",
       "version_major": 2,
       "version_minor": 0
      },
      "text/plain": [
       "DatePicker(value=datetime.date(2023, 2, 1), description='Pick a Date')"
      ]
     },
     "metadata": {},
     "output_type": "display_data"
    },
    {
     "data": {
      "application/vnd.jupyter.widget-view+json": {
       "model_id": "7fe970dab69f4e16a4e2ae6072e7bfd1",
       "version_major": 2,
       "version_minor": 0
      },
      "text/plain": [
       "Button(description='Generate output!', style=ButtonStyle())"
      ]
     },
     "metadata": {},
     "output_type": "display_data"
    },
    {
     "data": {
      "application/vnd.jupyter.widget-view+json": {
       "model_id": "177c7129e6244c96953df050e799e8f8",
       "version_major": 2,
       "version_minor": 0
      },
      "text/plain": [
       "Output()"
      ]
     },
     "metadata": {},
     "output_type": "display_data"
    },
    {
     "data": {
      "image/png": "[encoded data removed]",
      "text/plain": [
       "<Figure size 640x480 with 1 Axes>"
      ]
     },
     "metadata": {},
     "output_type": "display_data"
    }
   ],
   "source": [
    "def on_button_clicked(b):\n",
    "    with output:\n",
    "\n",
    "        clear_output(wait=False)\n",
    "        print(\"Output generated!\")\n",
    "        print(\"Report start date:\")\n",
    "        print(date.value)\n",
    "        print(\"Report end date:\")\n",
    "        print(str(date.value + datetime.timedelta(days=30)))\n",
    "        print(\"input data:\")\n",
    "        print(w1.value)\n",
    "        print(w1a.value)\n",
    "        print(w2.value)\n",
    "        print(w2a.value)\n",
    "        print(w3.value)\n",
    "        print(w3a.value)\n",
    "        print(\"output data:\")\n",
    "        portfolio_value = calculate_portfolio(currency1=w1.value, pct1=w1a.value,\n",
    "                        currency2=w2.value, pct2=w2a.value,\n",
    "                        currency3=w3.value, pct3=w3a.value,\n",
    "                        stock=w4.value, date=date.value)\n",
    "        plt.cla()\n",
    "        plt.plot(portfolio_value)\n",
    "\n",
    "button.on_click(on_button_clicked)\n",
    "\n",
    "display(w4,w1,w1a,w2,w2a,w3,w3a,date,button, output)"
   ]
  }
 ],
 "metadata": {
  "kernelspec": {
   "display_name": "Python 3 (ipykernel)",
   "language": "python",
   "name": "python3"
  },
  "language_info": {
   "codemirror_mode": {
    "name": "ipython",
    "version": 3
   },
   "file_extension": ".py",
   "mimetype": "text/x-python",
   "name": "python",
   "nbconvert_exporter": "python",
   "pygments_lexer": "ipython3",
   "version": "3.10.9"
  }
 },
 "nbformat": 4,
 "nbformat_minor": 5
}
