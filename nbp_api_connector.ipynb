{
 "cells": [
  {
   "cell_type": "markdown",
   "id": "671bd7cb",
   "metadata": {},
   "source": [
    "Zadanie kwalifikacyjne:\n",
    "W oparciu o dane dotyczące kursów walut wyciągane za pomocą API NBP (http://api.nbp.pl/)\n",
    "prosimy o przygotowanie programu automatyzującego analizę inwestycji w 3 wybrane waluty.\n",
    "Inwestowaną kwotą jest 1000 zł, które ma być w całości przeznaczone na zakup 3 walut\n",
    "przechowywanych przez okres 30 dni.\n",
    "\n",
    "• Data rozpoczęcia może być parametrem wejściowym ew. procedury.\n",
    "\n",
    "• Procentowy podział 3 walut może być również określony losowo lub jako parametr\n",
    "(np. 30% USD, 40% EUR, 30%HUF).\n",
    "Celem zadania jest automatyzacja tej analizy i prezentacja wniosków ( max. 1 strona / 1 slajd )\n",
    "omawiająca historię tej inwestycji:\n",
    "    \n",
    "A. Prezentacja może być oparta na wykresach powstających automatycznie w Twoim\n",
    "programie\n",
    "\n",
    "B. Prezentacja (slajd lub dashboard) powinna odpowiadać na przykładowe pytania:\n",
    "- jak procentowo rozłożona była inwestowana kwota ?\n",
    "\n",
    "- jak zmieniała się wartość Twojego portfela ?\n",
    "\n",
    "- jak wyglądał procentowy udział walut na końcu okresu inwestycji ?\n",
    "\n",
    "\n",
    "Ważne!\n",
    "\n",
    "2. Inwestycja nie musi być dochodowa\n",
    "– poszukiwanie najbardziej dochodowej inwestycji nie jest celem tego zadania\n",
    "3. Dla uproszczenia analizy można posłużyć się średnim kursem i nie musisz uwzględniać\n",
    "różnych cen zakupu i sprzedaży\n",
    "4. Waluty są kupowane we wskazanej dacie i po 30 dniach jest oceniana wartość portfela\n",
    "– w tym okresie nie są dokonywane żadne dodatkowe transakcje kupna/sprzedaży."
   ]
  },
  {
   "cell_type": "code",
   "execution_count": 1,
   "id": "6358bf55",
   "metadata": {},
   "outputs": [],
   "source": [
    "import datetime\n",
    "import ipywidgets as widgets\n",
    "import matplotlib.pyplot as plt\n",
    "from IPython.display import clear_output\n",
    "import requests\n",
    "import random\n",
    "import time\n",
    "import sys\n",
    "\n",
    "TabelaA = requests.get(\"http://api.nbp.pl/api/exchangerates/tables/A/\")\n",
    "TabelaA = TabelaA.json()\n",
    "\n",
    "currency_list = []\n",
    "for i in range(0, len(TabelaA[0][\"rates\"])):\n",
    "    currency_list.append(TabelaA[0][\"rates\"][i][\"code\"]) \n",
    "    \n",
    "#widgets 1-3, currency list\n",
    "w1=widgets.Dropdown(\n",
    "    options=currency_list,\n",
    "    value='THB',\n",
    "    description='currency:',\n",
    "    disabled=False)           \n",
    "w2=widgets.Dropdown(\n",
    "    options=currency_list,\n",
    "    value='USD',\n",
    "    description='currency:',\n",
    "    disabled=False)  \n",
    "w3=widgets.Dropdown(\n",
    "    options=currency_list,\n",
    "    value='AUD',\n",
    "    description='currency:',\n",
    "    disabled=False)  \n",
    "\n",
    "#widgets 4, stock\n",
    "w4=widgets.IntText(\n",
    "    value=1000,\n",
    "    description='Stock [PLN]:',\n",
    "    disabled=False\n",
    ")"
   ]
  },
  {
   "cell_type": "code",
   "execution_count": 2,
   "id": "a2d8adb3",
   "metadata": {},
   "outputs": [],
   "source": [
    "#widgets 1a-3a, currency percentage\n",
    "w1a=widgets.FloatSlider(\n",
    "    value=0.333,\n",
    "    min=0,\n",
    "    max=1,\n",
    "    step=0.001,\n",
    "    description='Percentage:',\n",
    "    disabled=False,\n",
    "    continuous_update=False,\n",
    "    orientation='horizontal',\n",
    "    readout=True,\n",
    "    readout_format='.3f',\n",
    ")\n",
    "w2a=widgets.FloatSlider(\n",
    "    value=0.333,\n",
    "    min=0,\n",
    "    max=1,\n",
    "    step=0.001,\n",
    "    description='Percentage:',\n",
    "    disabled=False,\n",
    "    continuous_update=False,\n",
    "    orientation='horizontal',\n",
    "    readout=True,\n",
    "    readout_format='.3f',\n",
    ")\n",
    "w3a=widgets.FloatSlider(\n",
    "    value=0.334,\n",
    "    min=0,\n",
    "    max=1,\n",
    "    step=0.001,\n",
    "    description='Percentage:',\n",
    "    disabled=False,\n",
    "    continuous_update=False,\n",
    "    orientation='horizontal',\n",
    "    readout=True,\n",
    "    readout_format='.3f',\n",
    ")"
   ]
  },
  {
   "cell_type": "code",
   "execution_count": 3,
   "id": "97571333",
   "metadata": {},
   "outputs": [],
   "source": [
    "#widgets 1a-3a, currency percentage, sum to 100%, slider changes.\n",
    "def handle_slider_change1(change):\n",
    "    w2a.value = w2a.value-(change.new-change.old)\n",
    "    if w1a.value + w2a.value + w3a.value != 1:\n",
    "        w3a.value=1-w2a.value-w1a.value\n",
    "    \n",
    "w1a.observe(handle_slider_change1, names='value')\n",
    "\n",
    "def handle_slider_change2(change):\n",
    "    w3a.value = w3a.value-(change.new-change.old)\n",
    "    if w1a.value + w2a.value + w3a.value != 1:\n",
    "        w2a.value=1-w3a.value-w1a.value\n",
    "\n",
    "w2a.observe(handle_slider_change2, names='value')\n",
    "\n",
    "def handle_slider_change3(change):\n",
    "    #w1a.value = w1a.value-(change.new-change.old)#removed\n",
    "    if w1a.value + w2a.value + w3a.value != 1:\n",
    "        w3a.value=1-w2a.value-w1a.value\n",
    "\n",
    "w3a.observe(handle_slider_change3, names='value')\n",
    "\n",
    "button_random = widgets.Button(description=\"Random currency\",disabled=False)\n",
    "\n",
    "#generate random percentage stock for sliders\n",
    "def on_button_random(b):\n",
    "    button_random.disabled=True\n",
    "    x = []\n",
    "    for i in range(3):\n",
    "        x.append(random.random())\n",
    "    y=[]\n",
    "    for i in x:\n",
    "        y.append(i/sum(x))\n",
    "    for i in range(0,3):\n",
    "        widget_nr = random.randint(0,1)#widget number 3 it implicite computate by sum, don't need to insert\n",
    "        if widget_nr==0:\n",
    "            w1a.value=y[0]\n",
    "        if widget_nr==1:\n",
    "            w2a.value=y[1]\n",
    "    w1.value=currency_list[random.randint(0,len(currency_list)-1)]\n",
    "    w2.value=currency_list[random.randint(0,len(currency_list)-1)]\n",
    "    w3.value=currency_list[random.randint(0,len(currency_list)-1)]\n",
    "    time.sleep(1)\n",
    "    button_random.disabled=False\n",
    "    \n",
    "button_random.on_click(on_button_random)"
   ]
  },
  {
   "cell_type": "code",
   "execution_count": 4,
   "id": "dc9a36ad",
   "metadata": {},
   "outputs": [],
   "source": [
    "#widgets 4, stock = 1000\n",
    "def handle_stock_change(change):\n",
    "    w4.value = 1000\n",
    "    \n",
    "w4.observe(handle_stock_change, names='value')\n",
    "\n",
    "#date from 01.02.2002 to last date - 30\n",
    "date=widgets.DatePicker(description='Pick a Date',value=datetime.datetime(2023, 2, 1))\n",
    "mindate=datetime.date(2002, 2, 1)\n",
    "maxdate=datetime.datetime.strptime(TabelaA[0][\"effectiveDate\"], \"%Y-%m-%d\").date() - datetime.timedelta(days=30)\n",
    "\n",
    "def date_change(change):\n",
    "    if date.value < mindate:\n",
    "        date.value = mindate\n",
    "        with output1:\n",
    "            print(\"Min date: \")\n",
    "            print(mindate)\n",
    "    if date.value >  maxdate:\n",
    "        date.value = maxdate\n",
    "        with output1:\n",
    "            clear_all_outputs()\n",
    "            print(\"Max date (the last published exchange rate date - 30 days): \")\n",
    "            print(maxdate)\n",
    "        \n",
    "date.observe(date_change, names='value')\n",
    "\n",
    "button_date = widgets.Button(description=\"Random date\")\n",
    "def on_button_date(b):\n",
    "    year = random.randint(2002,2022)\n",
    "    month = random.randint(1,12)\n",
    "    day = 1\n",
    "    date.value = datetime.date(year, month, day)\n",
    "button_date.on_click(on_button_date)\n",
    "\n",
    "try:\n",
    "  date.value=date.value.date()\n",
    "except:\n",
    "  print(\"warning, date transformed before\")\n",
    "\n",
    "        \n",
    "def calculate_changes(currency=w1.value, date=date.value):\n",
    "    stringBuilder = \"http://api.nbp.pl/api/exchangerates/rates/A/\" + currency + \"/\" +str(date) +\"/\" +str(date + datetime.timedelta(days=30)) +\"/?format=json\"\n",
    "    try:\n",
    "        Currency1 = requests.get(stringBuilder)\n",
    "        Currency1  = Currency1.json()\n",
    "    except:\n",
    "        print(\"NBP: 404 Not Found\")\n",
    "        print(\"Original message:\")\n",
    "        print(stringBuilder)\n",
    "        sys.exit(1)\n",
    "    \n",
    "    Currency1list = []\n",
    "    for x in Currency1[\"rates\"]:\n",
    "      value=float(x.get(\"mid\"))\n",
    "      Currency1list.append(value)\n",
    "    Changes = []\n",
    "    for i in range(0, len(Currency1list)-1):\n",
    "        Changes.append(Currency1list[i]/Currency1list[i+1])\n",
    "    return Changes\n",
    "\n",
    "def check_exchange_rate(currency=w1.value, date=date.value):\n",
    "    stringBuilder = \"http://api.nbp.pl/api/exchangerates/rates/A/\" + currency + \"/\" +str(date) +\"/\" +str(date) +\"/?format=json\"\n",
    "    try:\n",
    "        Currency1 = requests.get(stringBuilder)\n",
    "        Currency1  = Currency1.json()\n",
    "    except:\n",
    "        print(\"NBP: 404 Not Found\")\n",
    "        print(\"Original message:\")\n",
    "        print(stringBuilder)\n",
    "        sys.exit(1)\n",
    "    \n",
    "    exchange_rate_currency=[]\n",
    "    for x in Currency1[\"rates\"]:\n",
    "          value=float(x.get(\"mid\"))\n",
    "          exchange_rate_currency.append(value)\n",
    "    return exchange_rate_currency[0]"
   ]
  },
  {
   "cell_type": "code",
   "execution_count": 5,
   "id": "49e06e46",
   "metadata": {},
   "outputs": [],
   "source": [
    "def calculate_portfolio(currency1=w1.value, pct1=w1a.value,\n",
    "                        currency2=w2.value, pct2=w2a.value,\n",
    "                        currency3=w3.value, pct3=w3a.value,\n",
    "                        stock=w4.value, date=date.value):\n",
    "    Changes1=calculate_changes(currency=currency1, date=date)\n",
    "    Changes2=calculate_changes(currency=currency2, date=date)\n",
    "    Changes3=calculate_changes(currency=currency3, date=date)\n",
    "    pct1=pct1*stock\n",
    "    pct2=pct2*stock\n",
    "    pct3=pct3*stock\n",
    "    Portfolio_value=[]\n",
    "    Portfolio_value.append(pct1+pct2+pct3)\n",
    "    for i in range(0, len(Changes1)):\n",
    "        pct1=pct1*Changes1[i]\n",
    "        pct2=pct2*Changes2[i]\n",
    "        pct3=pct3*Changes3[i]\n",
    "        Portfolio_value.append(pct1+pct2+pct3)\n",
    "    exchange_rate1=check_exchange_rate(currency=w1.value, date=(date + datetime.timedelta(days=30)))\n",
    "    exchange_rate2=check_exchange_rate(currency=w2.value, date=(date + datetime.timedelta(days=30)))\n",
    "    exchange_rate3=check_exchange_rate(currency=w3.value, date=(date + datetime.timedelta(days=30)))\n",
    "    print(\"Stock value [PLN]: %.2f\" % (pct1+pct2+pct3))\n",
    "    print(currency1 + \", exchange rate: %.2f, pct: %.2f %%\" % (exchange_rate1, pct1/(pct1+pct2+pct3)*100))\n",
    "    print(currency2 + \", exchange rate: %.2f, pct: %.2f %%\" % (exchange_rate2, pct2/(pct1+pct2+pct3)*100))\n",
    "    print(currency3 + \", exchange rate: %.2f, pct: %.2f %%\" % (exchange_rate3, pct3/(pct1+pct2+pct3)*100))\n",
    "    return Portfolio_value\n",
    "\n",
    "output1 = widgets.Output()\n",
    "output2 = widgets.Output()\n",
    "output3 = widgets.Output()\n",
    "\n",
    "def clear_all_outputs():\n",
    "    output1.clear_output()\n",
    "    output2.clear_output()\n",
    "    output3.clear_output()"
   ]
  },
  {
   "cell_type": "code",
   "execution_count": 6,
   "id": "20da5db4",
   "metadata": {},
   "outputs": [],
   "source": [
    "button_check = widgets.Button(description=\"Check investment\")\n",
    "\n",
    "def on_button_clicked(b):\n",
    "    clear_all_outputs()\n",
    "    with output1:\n",
    "        output1.clear_output()\n",
    "        print(\"Output generated!\")\n",
    "        print(\"Investment report start date:\")\n",
    "        print(date.value)\n",
    "        print(\"Investment report end date:\")\n",
    "        print(str(date.value + datetime.timedelta(days=30)))\n",
    "        print(\"\")\n",
    "        print(\"Investment first day:\")\n",
    "        print(\"Stock value [PLN]: %.2f\" % (w4.value))\n",
    "        pct1=w1a.value\n",
    "        pct2=w2a.value\n",
    "        pct3=w3a.value\n",
    "        exchange_rate1=check_exchange_rate(currency=w1.value, date=date.value)\n",
    "        exchange_rate2=check_exchange_rate(currency=w2.value, date=date.value)\n",
    "        exchange_rate3=check_exchange_rate(currency=w3.value, date=date.value)\n",
    "        print(w1.value + \", exchange rate: %.2f, pct: %.2f %%\" % (exchange_rate1, pct1*100))\n",
    "        print(w2.value + \", exchange rate: %.2f, pct: %.2f %%\" % (exchange_rate2, pct2*100))\n",
    "        print(w3.value + \", exchange rate: %.2f, pct: %.2f %%\" % (exchange_rate3, pct3*100))\n",
    "    with output2:\n",
    "        output2.clear_output()\n",
    "        print(\"Investment last day:\")\n",
    "        portfolio_value = calculate_portfolio(currency1=w1.value, pct1=w1a.value,\n",
    "                        currency2=w2.value, pct2=w2a.value,\n",
    "                        currency3=w3.value, pct3=w3a.value,\n",
    "                        stock=w4.value, date=date.value)\n",
    "    with output3:\n",
    "        plt.plot(portfolio_value)\n",
    "        plt.title(\"Stock value [PLN]\")\n",
    "        plt.xlabel('Investment day')\n",
    "        output3.clear_output()\n",
    "        plt.show()\n",
    "button_check.on_click(on_button_clicked)    "
   ]
  },
  {
   "cell_type": "code",
   "execution_count": 7,
   "id": "a338c2b2",
   "metadata": {},
   "outputs": [
    {
     "data": {
      "application/vnd.jupyter.widget-view+json": {
       "model_id": "e0aed020b355439bbeff6e54497b2b0d",
       "version_major": 2,
       "version_minor": 0
      },
      "text/plain": [
       "IntText(value=1000, description='Stock [PLN]:')"
      ]
     },
     "metadata": {},
     "output_type": "display_data"
    },
    {
     "data": {
      "application/vnd.jupyter.widget-view+json": {
       "model_id": "76fbc0917d46420891ec89b95efa86d8",
       "version_major": 2,
       "version_minor": 0
      },
      "text/plain": [
       "Dropdown(description='currency:', options=('THB', 'USD', 'AUD', 'HKD', 'CAD', 'NZD', 'SGD', 'EUR', 'HUF', 'CHF…"
      ]
     },
     "metadata": {},
     "output_type": "display_data"
    },
    {
     "data": {
      "application/vnd.jupyter.widget-view+json": {
       "model_id": "65307c4c577948f7a15bfecaaee0f996",
       "version_major": 2,
       "version_minor": 0
      },
      "text/plain": [
       "FloatSlider(value=0.333, continuous_update=False, description='Percentage:', max=1.0, readout_format='.3f', st…"
      ]
     },
     "metadata": {},
     "output_type": "display_data"
    },
    {
     "data": {
      "application/vnd.jupyter.widget-view+json": {
       "model_id": "bae5bde7ce914576b005fd9d86003ba1",
       "version_major": 2,
       "version_minor": 0
      },
      "text/plain": [
       "Dropdown(description='currency:', index=1, options=('THB', 'USD', 'AUD', 'HKD', 'CAD', 'NZD', 'SGD', 'EUR', 'H…"
      ]
     },
     "metadata": {},
     "output_type": "display_data"
    },
    {
     "data": {
      "application/vnd.jupyter.widget-view+json": {
       "model_id": "1031c40e85e248eba10959a00964573d",
       "version_major": 2,
       "version_minor": 0
      },
      "text/plain": [
       "FloatSlider(value=0.333, continuous_update=False, description='Percentage:', max=1.0, readout_format='.3f', st…"
      ]
     },
     "metadata": {},
     "output_type": "display_data"
    },
    {
     "data": {
      "application/vnd.jupyter.widget-view+json": {
       "model_id": "4adaa32b2f3748a49907e97dbd1406c1",
       "version_major": 2,
       "version_minor": 0
      },
      "text/plain": [
       "Dropdown(description='currency:', index=2, options=('THB', 'USD', 'AUD', 'HKD', 'CAD', 'NZD', 'SGD', 'EUR', 'H…"
      ]
     },
     "metadata": {},
     "output_type": "display_data"
    },
    {
     "data": {
      "application/vnd.jupyter.widget-view+json": {
       "model_id": "718e9a04565545c29bca8e2c297fd001",
       "version_major": 2,
       "version_minor": 0
      },
      "text/plain": [
       "FloatSlider(value=0.334, continuous_update=False, description='Percentage:', max=1.0, readout_format='.3f', st…"
      ]
     },
     "metadata": {},
     "output_type": "display_data"
    },
    {
     "data": {
      "application/vnd.jupyter.widget-view+json": {
       "model_id": "6fccffe62b3f43fb8e2c53e676712696",
       "version_major": 2,
       "version_minor": 0
      },
      "text/plain": [
       "Button(description='Random currency', style=ButtonStyle())"
      ]
     },
     "metadata": {},
     "output_type": "display_data"
    },
    {
     "data": {
      "application/vnd.jupyter.widget-view+json": {
       "model_id": "79f03ee60c634a5e8bbcd7ffbe382c8d",
       "version_major": 2,
       "version_minor": 0
      },
      "text/plain": [
       "DatePicker(value=datetime.date(2023, 2, 1), description='Pick a Date')"
      ]
     },
     "metadata": {},
     "output_type": "display_data"
    },
    {
     "data": {
      "application/vnd.jupyter.widget-view+json": {
       "model_id": "57fc68a7d9d749ad979dc5f94a4cf17b",
       "version_major": 2,
       "version_minor": 0
      },
      "text/plain": [
       "Button(description='Random date', style=ButtonStyle())"
      ]
     },
     "metadata": {},
     "output_type": "display_data"
    },
    {
     "data": {
      "application/vnd.jupyter.widget-view+json": {
       "model_id": "f5f8d3beb30f4e5fb5cedba48706a7c1",
       "version_major": 2,
       "version_minor": 0
      },
      "text/plain": [
       "Button(description='Check investment', style=ButtonStyle())"
      ]
     },
     "metadata": {},
     "output_type": "display_data"
    },
    {
     "data": {
      "application/vnd.jupyter.widget-view+json": {
       "model_id": "65f6feba55714037a8f096ea89265323",
       "version_major": 2,
       "version_minor": 0
      },
      "text/plain": [
       "Output()"
      ]
     },
     "metadata": {},
     "output_type": "display_data"
    },
    {
     "data": {
      "application/vnd.jupyter.widget-view+json": {
       "model_id": "55c342445ab1490ebd4d7bc7470af71e",
       "version_major": 2,
       "version_minor": 0
      },
      "text/plain": [
       "Output()"
      ]
     },
     "metadata": {},
     "output_type": "display_data"
    },
    {
     "data": {
      "application/vnd.jupyter.widget-view+json": {
       "model_id": "3a8c63950adb4185a01679ffef859a84",
       "version_major": 2,
       "version_minor": 0
      },
      "text/plain": [
       "Output()"
      ]
     },
     "metadata": {},
     "output_type": "display_data"
    }
   ],
   "source": [
    "clear_all_outputs()  \n",
    "\n",
    "display(w4,\n",
    "        w1, w1a,\n",
    "        w2, w2a,\n",
    "        w3, w3a,\n",
    "        button_random,\n",
    "        date, button_date,\n",
    "        button_check,\n",
    "        output1, output2, output3)"
   ]
  },
  {
   "cell_type": "code",
   "execution_count": null,
   "id": "32e649c2",
   "metadata": {},
   "outputs": [],
   "source": []
  }
 ],
 "metadata": {
  "kernelspec": {
   "display_name": "Python 3 (ipykernel)",
   "language": "python",
   "name": "python3"
  },
  "language_info": {
   "codemirror_mode": {
    "name": "ipython",
    "version": 3
   },
   "file_extension": ".py",
   "mimetype": "text/x-python",
   "name": "python",
   "nbconvert_exporter": "python",
   "pygments_lexer": "ipython3",
   "version": "3.10.9"
  },
  "widgets": {
   "application/vnd.jupyter.widget-state+json": {
    "state": {
     "022e2bb17f8f4dfeaa1fca61a6c1aabd": {
      "model_module": "@jupyter-widgets/controls",
      "model_module_version": "1.5.0",
      "model_name": "DescriptionStyleModel",
      "state": {
       "description_width": ""
      }
     },
     "023111b7c18945eeb3ad12affdf41230": {
      "model_module": "@jupyter-widgets/base",
      "model_module_version": "1.2.0",
      "model_name": "LayoutModel",
      "state": {}
     },
     "028304f2b410430687db7bdda61d9f2d": {
      "model_module": "@jupyter-widgets/controls",
      "model_module_version": "1.5.0",
      "model_name": "DescriptionStyleModel",
      "state": {
       "description_width": ""
      }
     },
     "032588ac1f444cd6b58369694090ed5f": {
      "model_module": "@jupyter-widgets/controls",
      "model_module_version": "1.5.0",
      "model_name": "FloatSliderModel",
      "state": {
       "continuous_update": false,
       "description": "Percentage stock:",
       "layout": "IPY_MODEL_e3fb21abc3d647e7a2391f4b8b8eee24",
       "max": 1,
       "readout_format": ".3f",
       "step": 0.001,
       "style": "IPY_MODEL_bb9322a92bb94a63a884d9bdf78d77a8",
       "value": 0.333
      }
     },
     "03d36c2b2dcb4c13b8d7c58a912dd530": {
      "model_module": "@jupyter-widgets/controls",
      "model_module_version": "1.5.0",
      "model_name": "FloatSliderModel",
      "state": {
       "continuous_update": false,
       "description": "Percentage stock:",
       "layout": "IPY_MODEL_d2b88cc5d889456297a9ace495074c3f",
       "max": 1,
       "readout_format": ".3f",
       "step": 0.001,
       "style": "IPY_MODEL_7afd5641b1d3438697ae1cd96e9aff27",
       "value": 0.334
      }
     },
     "0528b64b10b9459283347571af86e355": {
      "model_module": "@jupyter-widgets/base",
      "model_module_version": "1.2.0",
      "model_name": "LayoutModel",
      "state": {}
     },
     "06344ad283ec400c8d8063a8583e99c0": {
      "model_module": "@jupyter-widgets/controls",
      "model_module_version": "1.5.0",
      "model_name": "DescriptionStyleModel",
      "state": {
       "description_width": ""
      }
     },
     "08784758d3f84ab4b7c73b9b51e53e37": {
      "model_module": "@jupyter-widgets/controls",
      "model_module_version": "1.5.0",
      "model_name": "DropdownModel",
      "state": {
       "_options_labels": [
        "THB",
        "USD",
        "AUD",
        "HKD",
        "CAD",
        "NZD",
        "SGD",
        "EUR",
        "HUF",
        "CHF",
        "GBP",
        "UAH",
        "JPY",
        "CZK",
        "DKK",
        "ISK",
        "NOK",
        "SEK",
        "RON",
        "BGN",
        "TRY",
        "ILS",
        "CLP",
        "PHP",
        "MXN",
        "ZAR",
        "BRL",
        "MYR",
        "IDR",
        "INR",
        "KRW",
        "CNY",
        "XDR"
       ],
       "description": "currency:",
       "index": 0,
       "layout": "IPY_MODEL_525e9c15814f4725ae81f2d816fa031c",
       "style": "IPY_MODEL_e881e2eec5ea49ec9e7ff489428cf6d2"
      }
     },
     "0a65981a1cad47d79bfce14e745fd823": {
      "model_module": "@jupyter-widgets/base",
      "model_module_version": "1.2.0",
      "model_name": "LayoutModel",
      "state": {}
     },
     "0ad0fc50b376424696ae33c6f4bc73b1": {
      "model_module": "@jupyter-widgets/controls",
      "model_module_version": "1.5.0",
      "model_name": "DescriptionStyleModel",
      "state": {
       "description_width": ""
      }
     },
     "0b1b39015d6c4c6e9dd511f671559ea8": {
      "model_module": "@jupyter-widgets/base",
      "model_module_version": "1.2.0",
      "model_name": "LayoutModel",
      "state": {}
     },
     "0b4e662ea8f64169ada6437cb25d8a8f": {
      "model_module": "@jupyter-widgets/base",
      "model_module_version": "1.2.0",
      "model_name": "LayoutModel",
      "state": {}
     },
     "0b81b0d420094f2a994ee8fc2cdf1b17": {
      "model_module": "@jupyter-widgets/base",
      "model_module_version": "1.2.0",
      "model_name": "LayoutModel",
      "state": {}
     },
     "0c17ef24301643faa7fc8988a5e83a13": {
      "model_module": "@jupyter-widgets/controls",
      "model_module_version": "1.5.0",
      "model_name": "SliderStyleModel",
      "state": {
       "description_width": ""
      }
     },
     "0d635f6a904443b6889e966a29799eea": {
      "model_module": "@jupyter-widgets/controls",
      "model_module_version": "1.5.0",
      "model_name": "SliderStyleModel",
      "state": {
       "description_width": ""
      }
     },
     "0dce5cdbb2e14acc9860ee7cf588f4dc": {
      "model_module": "@jupyter-widgets/controls",
      "model_module_version": "1.5.0",
      "model_name": "ButtonStyleModel",
      "state": {}
     },
     "0e86c891999e4d7baedf6098fd27406c": {
      "model_module": "@jupyter-widgets/controls",
      "model_module_version": "1.5.0",
      "model_name": "DatePickerModel",
      "state": {
       "description": "Pick a Date",
       "disabled": false,
       "layout": "IPY_MODEL_8a41559be56e458f967591d56cf7286c",
       "style": "IPY_MODEL_792dbbe7377a413bbb850ce3e3d830d3",
       "value": {
        "date": 1,
        "month": 5,
        "year": 2018
       }
      }
     },
     "10270f13701b42ce905c83e6b239a800": {
      "model_module": "@jupyter-widgets/controls",
      "model_module_version": "1.5.0",
      "model_name": "DatePickerModel",
      "state": {
       "description": "Pick a Date",
       "disabled": false,
       "layout": "IPY_MODEL_8b79e5d2248e4603af16c573e17c893a",
       "style": "IPY_MODEL_c80c9c8dca864d4fb5218201de961640",
       "value": {
        "date": 1,
        "month": 1,
        "year": 2023
       }
      }
     },
     "121cb3e710284d3ba7056afad91f4a96": {
      "model_module": "@jupyter-widgets/controls",
      "model_module_version": "1.5.0",
      "model_name": "ButtonModel",
      "state": {
       "description": "Check investiotion!",
       "layout": "IPY_MODEL_a31f1cb4c99d4646adf8c4d913926201",
       "style": "IPY_MODEL_f1d605be6bdc47ad90ed470267867aef"
      }
     },
     "13f094431585465292172ad88f70cbb7": {
      "model_module": "@jupyter-widgets/controls",
      "model_module_version": "1.5.0",
      "model_name": "DescriptionStyleModel",
      "state": {
       "description_width": ""
      }
     },
     "1492a6732b8b4e2b8c37ce4cf0810f2d": {
      "model_module": "@jupyter-widgets/controls",
      "model_module_version": "1.5.0",
      "model_name": "SliderStyleModel",
      "state": {
       "description_width": ""
      }
     },
     "14c744095cce443c9ec8297d20be1670": {
      "model_module": "@jupyter-widgets/controls",
      "model_module_version": "1.5.0",
      "model_name": "DatePickerModel",
      "state": {
       "description": "Pick a Date",
       "disabled": false,
       "layout": "IPY_MODEL_74a3e7b1065b4f948ffc87de150ccfad",
       "style": "IPY_MODEL_f7bec1c2af4a4f2788d43f52347e1a03",
       "value": {
        "date": 15,
        "month": 3,
        "year": 2023
       }
      }
     },
     "1538bdc4127249cebb7a46247b11ca06": {
      "model_module": "@jupyter-widgets/output",
      "model_module_version": "1.0.0",
      "model_name": "OutputModel",
      "state": {
       "layout": "IPY_MODEL_e84f7e27d9f74d31a6eac001e1205679"
      }
     },
     "15e230a0aa0c430a8bbb3ad06ae9a053": {
      "model_module": "@jupyter-widgets/base",
      "model_module_version": "1.2.0",
      "model_name": "LayoutModel",
      "state": {}
     },
     "160286a528a740ca880554fd94140851": {
      "model_module": "@jupyter-widgets/controls",
      "model_module_version": "1.5.0",
      "model_name": "SliderStyleModel",
      "state": {
       "description_width": ""
      }
     },
     "16fe3b2630404b9d9752bb92f3059063": {
      "model_module": "@jupyter-widgets/controls",
      "model_module_version": "1.5.0",
      "model_name": "DescriptionStyleModel",
      "state": {
       "description_width": ""
      }
     },
     "1738f3e85bf9493d9b2457bb83306812": {
      "model_module": "@jupyter-widgets/base",
      "model_module_version": "1.2.0",
      "model_name": "LayoutModel",
      "state": {}
     },
     "1767c3b11f104deba9e1476f76dbbe3f": {
      "model_module": "@jupyter-widgets/controls",
      "model_module_version": "1.5.0",
      "model_name": "DropdownModel",
      "state": {
       "_options_labels": [
        "THB",
        "USD",
        "AUD",
        "HKD",
        "CAD",
        "NZD",
        "SGD",
        "EUR",
        "HUF",
        "CHF",
        "GBP",
        "UAH",
        "JPY",
        "CZK",
        "DKK",
        "ISK",
        "NOK",
        "SEK",
        "RON",
        "BGN",
        "TRY",
        "ILS",
        "CLP",
        "PHP",
        "MXN",
        "ZAR",
        "BRL",
        "MYR",
        "IDR",
        "INR",
        "KRW",
        "CNY",
        "XDR"
       ],
       "description": "currency:",
       "index": 1,
       "layout": "IPY_MODEL_d3ce022e1cb648b1a54b3cfd8125ee99",
       "style": "IPY_MODEL_a9d2595f79194168911f0d87da771618"
      }
     },
     "17b02e86cee24f1c9d31e8c9e77fe451": {
      "model_module": "@jupyter-widgets/controls",
      "model_module_version": "1.5.0",
      "model_name": "ButtonModel",
      "state": {
       "description": "Check investiotion!",
       "layout": "IPY_MODEL_42499502e0da4a2c95fb1699402dfa59",
       "style": "IPY_MODEL_2bce6e11370343599e001e05dedab83a"
      }
     },
     "1baca027624c4867b72989580bf882fd": {
      "model_module": "@jupyter-widgets/base",
      "model_module_version": "1.2.0",
      "model_name": "LayoutModel",
      "state": {}
     },
     "1bc31999def74cbc87df775c96d0de76": {
      "model_module": "@jupyter-widgets/base",
      "model_module_version": "1.2.0",
      "model_name": "LayoutModel",
      "state": {}
     },
     "1bd60979e9ac41a2a618a9e2cc7d5db6": {
      "model_module": "@jupyter-widgets/base",
      "model_module_version": "1.2.0",
      "model_name": "LayoutModel",
      "state": {}
     },
     "1bdb6f4eb60740aa931f0ab23a2b6eb3": {
      "model_module": "@jupyter-widgets/controls",
      "model_module_version": "1.5.0",
      "model_name": "FloatSliderModel",
      "state": {
       "continuous_update": false,
       "description": "Percentage stock:",
       "layout": "IPY_MODEL_f87a8bd110d947478d01460d2fccac74",
       "max": 1,
       "readout_format": ".3f",
       "step": 0.001,
       "style": "IPY_MODEL_e132b51f857741d0b9de815e6607034e",
       "value": 0.333
      }
     },
     "1db9420af1364ba08601b86c11eafc19": {
      "model_module": "@jupyter-widgets/controls",
      "model_module_version": "1.5.0",
      "model_name": "DropdownModel",
      "state": {
       "_options_labels": [
        "THB",
        "USD",
        "AUD",
        "HKD",
        "CAD",
        "NZD",
        "SGD",
        "EUR",
        "HUF",
        "CHF",
        "GBP",
        "UAH",
        "JPY",
        "CZK",
        "DKK",
        "ISK",
        "NOK",
        "SEK",
        "RON",
        "BGN",
        "TRY",
        "ILS",
        "CLP",
        "PHP",
        "MXN",
        "ZAR",
        "BRL",
        "MYR",
        "IDR",
        "INR",
        "KRW",
        "CNY",
        "XDR"
       ],
       "description": "currency:",
       "index": 1,
       "layout": "IPY_MODEL_1bc31999def74cbc87df775c96d0de76",
       "style": "IPY_MODEL_06344ad283ec400c8d8063a8583e99c0"
      }
     },
     "20756113aac44ae499f57062add9a209": {
      "model_module": "@jupyter-widgets/controls",
      "model_module_version": "1.5.0",
      "model_name": "IntTextModel",
      "state": {
       "description": "Stock:",
       "layout": "IPY_MODEL_4f0be8a7b406497eb67578232b21e7e0",
       "step": 1,
       "style": "IPY_MODEL_71c5fe78b0e14badb5fa2c321d18e78f",
       "value": 1000
      }
     },
     "214cc1f4d9b144eea5b70c917703f154": {
      "model_module": "@jupyter-widgets/controls",
      "model_module_version": "1.5.0",
      "model_name": "ButtonModel",
      "state": {
       "description": "Generate output!",
       "layout": "IPY_MODEL_51ab08f5f64c42e199d0f6e228050d40",
       "style": "IPY_MODEL_38a3da83a43e46c6b27cd76ea871c5cb"
      }
     },
     "2191e2c4f9b947d6b92489896f37854d": {
      "model_module": "@jupyter-widgets/controls",
      "model_module_version": "1.5.0",
      "model_name": "DropdownModel",
      "state": {
       "_options_labels": [
        "THB",
        "USD",
        "AUD",
        "HKD",
        "CAD",
        "NZD",
        "SGD",
        "EUR",
        "HUF",
        "CHF",
        "GBP",
        "UAH",
        "JPY",
        "CZK",
        "DKK",
        "ISK",
        "NOK",
        "SEK",
        "RON",
        "BGN",
        "TRY",
        "ILS",
        "CLP",
        "PHP",
        "MXN",
        "ZAR",
        "BRL",
        "MYR",
        "IDR",
        "INR",
        "KRW",
        "CNY",
        "XDR"
       ],
       "description": "currency:",
       "index": 0,
       "layout": "IPY_MODEL_8bd9b246fcf446cdb6dbf95adc9f8e0c",
       "style": "IPY_MODEL_be43796b565d441ba5ed6fbdce008419"
      }
     },
     "222d2ffecc2640b7a1257203fea96e0d": {
      "model_module": "@jupyter-widgets/controls",
      "model_module_version": "1.5.0",
      "model_name": "DescriptionStyleModel",
      "state": {
       "description_width": ""
      }
     },
     "2249b105e07d492a93f10a85c771235b": {
      "model_module": "@jupyter-widgets/controls",
      "model_module_version": "1.5.0",
      "model_name": "SliderStyleModel",
      "state": {
       "description_width": ""
      }
     },
     "241c71ddbb5c444c8961c24d6994908b": {
      "model_module": "@jupyter-widgets/controls",
      "model_module_version": "1.5.0",
      "model_name": "IntTextModel",
      "state": {
       "description": "Stock:",
       "layout": "IPY_MODEL_ce41c717e7b1452593b76665614d6b78",
       "step": 1,
       "style": "IPY_MODEL_32da6e7d671047549393e9bd3c744c22",
       "value": 1000
      }
     },
     "24a6da9ec9a04de3acf1355941e173ca": {
      "model_module": "@jupyter-widgets/base",
      "model_module_version": "1.2.0",
      "model_name": "LayoutModel",
      "state": {}
     },
     "25812c632b9846bf8a8ca6385fedb9fc": {
      "model_module": "@jupyter-widgets/controls",
      "model_module_version": "1.5.0",
      "model_name": "FloatSliderModel",
      "state": {
       "continuous_update": false,
       "description": "Percentage stock:",
       "layout": "IPY_MODEL_953fab4c3fd047e8b563e48d9990f9d7",
       "max": 1,
       "readout_format": ".3f",
       "step": 0.001,
       "style": "IPY_MODEL_0c17ef24301643faa7fc8988a5e83a13",
       "value": 0.333
      }
     },
     "279d3e52192f471da8d1d34f5cce42f6": {
      "model_module": "@jupyter-widgets/controls",
      "model_module_version": "1.5.0",
      "model_name": "SliderStyleModel",
      "state": {
       "description_width": ""
      }
     },
     "27c868419f5d4b0fbe4eb7cdd5f7053f": {
      "model_module": "@jupyter-widgets/controls",
      "model_module_version": "1.5.0",
      "model_name": "FloatSliderModel",
      "state": {
       "continuous_update": false,
       "description": "Percentage stock:",
       "layout": "IPY_MODEL_4c30c917b9c14d35989fe2a6afb03e1a",
       "max": 1,
       "readout_format": ".3f",
       "step": 0.001,
       "style": "IPY_MODEL_730e50bfefd44c818924d1542e510f9a",
       "value": 0.334
      }
     },
     "281020504eab4ebead576c4da65fae9c": {
      "model_module": "@jupyter-widgets/controls",
      "model_module_version": "1.5.0",
      "model_name": "DescriptionStyleModel",
      "state": {
       "description_width": ""
      }
     },
     "293d64c01bc04e0ab19f13b2029cce78": {
      "model_module": "@jupyter-widgets/controls",
      "model_module_version": "1.5.0",
      "model_name": "DescriptionStyleModel",
      "state": {
       "description_width": ""
      }
     },
     "2a8225b2924347c1932b1eb87319a5cf": {
      "model_module": "@jupyter-widgets/base",
      "model_module_version": "1.2.0",
      "model_name": "LayoutModel",
      "state": {}
     },
     "2b886469a86d46649b0cc17b2bdc10de": {
      "model_module": "@jupyter-widgets/controls",
      "model_module_version": "1.5.0",
      "model_name": "IntTextModel",
      "state": {
       "description": "Stock:",
       "layout": "IPY_MODEL_cc7318430a9d4e9fa662042f442d2ed7",
       "step": 1,
       "style": "IPY_MODEL_293d64c01bc04e0ab19f13b2029cce78",
       "value": 1000
      }
     },
     "2bce6e11370343599e001e05dedab83a": {
      "model_module": "@jupyter-widgets/controls",
      "model_module_version": "1.5.0",
      "model_name": "ButtonStyleModel",
      "state": {}
     },
     "2c5507d85d5a44afa941a55e13919778": {
      "model_module": "@jupyter-widgets/base",
      "model_module_version": "1.2.0",
      "model_name": "LayoutModel",
      "state": {}
     },
     "2c5f196ec3244d038442b2289de09071": {
      "model_module": "@jupyter-widgets/controls",
      "model_module_version": "1.5.0",
      "model_name": "ButtonModel",
      "state": {
       "description": "Check investiotion!",
       "layout": "IPY_MODEL_6e3713be71ab422f8c48e4a7aeebf620",
       "style": "IPY_MODEL_f93afc3ee4354270b898a664a7f85b9e"
      }
     },
     "2ccf82ef2d2c4b7f8b72b69ade636381": {
      "model_module": "@jupyter-widgets/controls",
      "model_module_version": "1.5.0",
      "model_name": "DescriptionStyleModel",
      "state": {
       "description_width": ""
      }
     },
     "2d6132cfe6f64fe8ae40d886aed554eb": {
      "model_module": "@jupyter-widgets/base",
      "model_module_version": "1.2.0",
      "model_name": "LayoutModel",
      "state": {}
     },
     "2d7accc8c7184becb5b44d807c4425e7": {
      "model_module": "@jupyter-widgets/base",
      "model_module_version": "1.2.0",
      "model_name": "LayoutModel",
      "state": {}
     },
     "2e6a3c486e5c40228861f388b74c038b": {
      "model_module": "@jupyter-widgets/controls",
      "model_module_version": "1.5.0",
      "model_name": "DescriptionStyleModel",
      "state": {
       "description_width": ""
      }
     },
     "2edb28d069ac41c6a89271a7b9a2b423": {
      "model_module": "@jupyter-widgets/controls",
      "model_module_version": "1.5.0",
      "model_name": "DropdownModel",
      "state": {
       "_options_labels": [
        "THB",
        "USD",
        "AUD",
        "HKD",
        "CAD",
        "NZD",
        "SGD",
        "EUR",
        "HUF",
        "CHF",
        "GBP",
        "UAH",
        "JPY",
        "CZK",
        "DKK",
        "ISK",
        "NOK",
        "SEK",
        "RON",
        "BGN",
        "TRY",
        "ILS",
        "CLP",
        "PHP",
        "MXN",
        "ZAR",
        "BRL",
        "MYR",
        "IDR",
        "INR",
        "KRW",
        "CNY",
        "XDR"
       ],
       "description": "currency:",
       "index": 2,
       "layout": "IPY_MODEL_362f702ce2ab43cbb3c1275982bba506",
       "style": "IPY_MODEL_2e6a3c486e5c40228861f388b74c038b"
      }
     },
     "30b49cd4ac424e73977a850b66842ca3": {
      "model_module": "@jupyter-widgets/controls",
      "model_module_version": "1.5.0",
      "model_name": "IntTextModel",
      "state": {
       "description": "Stock:",
       "layout": "IPY_MODEL_0b1b39015d6c4c6e9dd511f671559ea8",
       "step": 1,
       "style": "IPY_MODEL_222d2ffecc2640b7a1257203fea96e0d",
       "value": 1000
      }
     },
     "32da6e7d671047549393e9bd3c744c22": {
      "model_module": "@jupyter-widgets/controls",
      "model_module_version": "1.5.0",
      "model_name": "DescriptionStyleModel",
      "state": {
       "description_width": ""
      }
     },
     "32dee4861bd54c0e9eae8086d37af691": {
      "model_module": "@jupyter-widgets/controls",
      "model_module_version": "1.5.0",
      "model_name": "DropdownModel",
      "state": {
       "_options_labels": [
        "THB",
        "USD",
        "AUD",
        "HKD",
        "CAD",
        "NZD",
        "SGD",
        "EUR",
        "HUF",
        "CHF",
        "GBP",
        "UAH",
        "JPY",
        "CZK",
        "DKK",
        "ISK",
        "NOK",
        "SEK",
        "RON",
        "BGN",
        "TRY",
        "ILS",
        "CLP",
        "PHP",
        "MXN",
        "ZAR",
        "BRL",
        "MYR",
        "IDR",
        "INR",
        "KRW",
        "CNY",
        "XDR"
       ],
       "description": "currency:",
       "index": 1,
       "layout": "IPY_MODEL_ffa02c58e99e40a8ba49573cfe1f9f06",
       "style": "IPY_MODEL_022e2bb17f8f4dfeaa1fca61a6c1aabd"
      }
     },
     "362f702ce2ab43cbb3c1275982bba506": {
      "model_module": "@jupyter-widgets/base",
      "model_module_version": "1.2.0",
      "model_name": "LayoutModel",
      "state": {}
     },
     "36b4412fa21a48029c434d2a929585c6": {
      "model_module": "@jupyter-widgets/controls",
      "model_module_version": "1.5.0",
      "model_name": "DescriptionStyleModel",
      "state": {
       "description_width": ""
      }
     },
     "38a3da83a43e46c6b27cd76ea871c5cb": {
      "model_module": "@jupyter-widgets/controls",
      "model_module_version": "1.5.0",
      "model_name": "ButtonStyleModel",
      "state": {}
     },
     "3b232c00fadd42d2bad059bf38d14726": {
      "model_module": "@jupyter-widgets/base",
      "model_module_version": "1.2.0",
      "model_name": "LayoutModel",
      "state": {}
     },
     "3c3e4e4344254ff8a88b159a9db56df2": {
      "model_module": "@jupyter-widgets/controls",
      "model_module_version": "1.5.0",
      "model_name": "ButtonStyleModel",
      "state": {}
     },
     "3ed7f003b46340eaaee36da38d794ed4": {
      "model_module": "@jupyter-widgets/controls",
      "model_module_version": "1.5.0",
      "model_name": "FloatSliderModel",
      "state": {
       "continuous_update": false,
       "description": "Percentage stock:",
       "layout": "IPY_MODEL_4151134499dc4d97a2e80bc87f93b20c",
       "max": 1,
       "readout_format": ".3f",
       "step": 0.001,
       "style": "IPY_MODEL_f94a28e91afe4549a06b55c7476337cd",
       "value": 0.334
      }
     },
     "3fccf7b16c834d2e838323cd2ff85b88": {
      "model_module": "@jupyter-widgets/controls",
      "model_module_version": "1.5.0",
      "model_name": "ButtonStyleModel",
      "state": {}
     },
     "3fe4fe618fd246f683cb46e49d79af27": {
      "model_module": "@jupyter-widgets/controls",
      "model_module_version": "1.5.0",
      "model_name": "SliderStyleModel",
      "state": {
       "description_width": ""
      }
     },
     "4151134499dc4d97a2e80bc87f93b20c": {
      "model_module": "@jupyter-widgets/base",
      "model_module_version": "1.2.0",
      "model_name": "LayoutModel",
      "state": {}
     },
     "42499502e0da4a2c95fb1699402dfa59": {
      "model_module": "@jupyter-widgets/base",
      "model_module_version": "1.2.0",
      "model_name": "LayoutModel",
      "state": {}
     },
     "43759c4df46442e887d65d57779d744f": {
      "model_module": "@jupyter-widgets/controls",
      "model_module_version": "1.5.0",
      "model_name": "DescriptionStyleModel",
      "state": {
       "description_width": ""
      }
     },
     "43a8f15146494de3bcba0020b374c687": {
      "model_module": "@jupyter-widgets/base",
      "model_module_version": "1.2.0",
      "model_name": "LayoutModel",
      "state": {}
     },
     "44178271c66741c8b41a81fbc1582edc": {
      "model_module": "@jupyter-widgets/base",
      "model_module_version": "1.2.0",
      "model_name": "LayoutModel",
      "state": {}
     },
     "4447f29856164903853346fb5d69ab50": {
      "model_module": "@jupyter-widgets/output",
      "model_module_version": "1.0.0",
      "model_name": "OutputModel",
      "state": {
       "layout": "IPY_MODEL_562c0b81ab664903813522eb178f1037",
       "outputs": [
        {
         "name": "stdout",
         "output_type": "stream",
         "text": "Output generated!\nInvestition report start date:\n2023-02-01\nInvestition report end date:\n2023-03-03\nInvestition input data:\nTHB\n0.333\nUSD\n0.333\nAUD\n0.334\nInvestition output data:\nTHB in stock: 343.16197183098564. pct: 0.3452991102435065\nUSD in stock: 324.83665230824744. pct: 0.326859664601068\nAUD in stock: 325.8121377506145. pct: 0.3278412251554256\nStock value: 993.8107618898475\n"
        }
       ]
      }
     },
     "44861d4b73a34839b0746cd9e5ec86c9": {
      "model_module": "@jupyter-widgets/base",
      "model_module_version": "1.2.0",
      "model_name": "LayoutModel",
      "state": {}
     },
     "44be11d8d2f746e186c13f7f22c5fa29": {
      "model_module": "@jupyter-widgets/controls",
      "model_module_version": "1.5.0",
      "model_name": "FloatSliderModel",
      "state": {
       "continuous_update": false,
       "description": "Percentage stock:",
       "layout": "IPY_MODEL_1baca027624c4867b72989580bf882fd",
       "max": 1,
       "readout_format": ".3f",
       "step": 0.001,
       "style": "IPY_MODEL_160286a528a740ca880554fd94140851",
       "value": 0.333
      }
     },
     "4634df92882f44a69b7ba9e9aabd9052": {
      "model_module": "@jupyter-widgets/controls",
      "model_module_version": "1.5.0",
      "model_name": "SliderStyleModel",
      "state": {
       "description_width": ""
      }
     },
     "4645990695204c739ede01a567fb92c3": {
      "model_module": "@jupyter-widgets/controls",
      "model_module_version": "1.5.0",
      "model_name": "DescriptionStyleModel",
      "state": {
       "description_width": ""
      }
     },
     "46f5c89e236f46509321eef3c35d869b": {
      "model_module": "@jupyter-widgets/base",
      "model_module_version": "1.2.0",
      "model_name": "LayoutModel",
      "state": {}
     },
     "482355d1fb73424a996d6e0411b9de53": {
      "model_module": "@jupyter-widgets/controls",
      "model_module_version": "1.5.0",
      "model_name": "DropdownModel",
      "state": {
       "_options_labels": [
        "THB",
        "USD",
        "AUD",
        "HKD",
        "CAD",
        "NZD",
        "SGD",
        "EUR",
        "HUF",
        "CHF",
        "GBP",
        "UAH",
        "JPY",
        "CZK",
        "DKK",
        "ISK",
        "NOK",
        "SEK",
        "RON",
        "BGN",
        "TRY",
        "ILS",
        "CLP",
        "PHP",
        "MXN",
        "ZAR",
        "BRL",
        "MYR",
        "IDR",
        "INR",
        "KRW",
        "CNY",
        "XDR"
       ],
       "description": "currency:",
       "index": 29,
       "layout": "IPY_MODEL_aac03c4d5db14b1ab1fd83244ecc8574",
       "style": "IPY_MODEL_4beb752c5b644cd8ad3e532eca6b41f5"
      }
     },
     "48b66090001744b6ae3833c321a2a838": {
      "model_module": "@jupyter-widgets/controls",
      "model_module_version": "1.5.0",
      "model_name": "DropdownModel",
      "state": {
       "_options_labels": [
        "THB",
        "USD",
        "AUD",
        "HKD",
        "CAD",
        "NZD",
        "SGD",
        "EUR",
        "HUF",
        "CHF",
        "GBP",
        "UAH",
        "JPY",
        "CZK",
        "DKK",
        "ISK",
        "NOK",
        "SEK",
        "RON",
        "BGN",
        "TRY",
        "ILS",
        "CLP",
        "PHP",
        "MXN",
        "ZAR",
        "BRL",
        "MYR",
        "IDR",
        "INR",
        "KRW",
        "CNY",
        "XDR"
       ],
       "description": "currency:",
       "index": 1,
       "layout": "IPY_MODEL_44178271c66741c8b41a81fbc1582edc",
       "style": "IPY_MODEL_80b6e7e0c3654d879baa6dee74709a77"
      }
     },
     "4a015f0a78614a5293013bc8726b4ce4": {
      "model_module": "@jupyter-widgets/controls",
      "model_module_version": "1.5.0",
      "model_name": "FloatSliderModel",
      "state": {
       "continuous_update": false,
       "description": "Percentage stock:",
       "layout": "IPY_MODEL_0528b64b10b9459283347571af86e355",
       "max": 1,
       "readout_format": ".3f",
       "step": 0.001,
       "style": "IPY_MODEL_5c26bd465f764434a4c7ec28e26fa755",
       "value": 0.333
      }
     },
     "4a30258c6df242c7ac312c9098226105": {
      "model_module": "@jupyter-widgets/controls",
      "model_module_version": "1.5.0",
      "model_name": "SliderStyleModel",
      "state": {
       "description_width": ""
      }
     },
     "4bd812b626014fcc8fcce3db6067861e": {
      "model_module": "@jupyter-widgets/controls",
      "model_module_version": "1.5.0",
      "model_name": "DescriptionStyleModel",
      "state": {
       "description_width": ""
      }
     },
     "4beb752c5b644cd8ad3e532eca6b41f5": {
      "model_module": "@jupyter-widgets/controls",
      "model_module_version": "1.5.0",
      "model_name": "DescriptionStyleModel",
      "state": {
       "description_width": ""
      }
     },
     "4c20140b2d384aafb34ce97aff0a7640": {
      "model_module": "@jupyter-widgets/controls",
      "model_module_version": "1.5.0",
      "model_name": "DatePickerModel",
      "state": {
       "description": "Pick a Date",
       "disabled": false,
       "layout": "IPY_MODEL_e7ba243061ca49b49ac9006487091523",
       "style": "IPY_MODEL_6db4903b98aa4fa8af749486c8e543ea",
       "value": {
        "date": 1,
        "month": 1,
        "year": 2023
       }
      }
     },
     "4c30c917b9c14d35989fe2a6afb03e1a": {
      "model_module": "@jupyter-widgets/base",
      "model_module_version": "1.2.0",
      "model_name": "LayoutModel",
      "state": {}
     },
     "4d65e34b658a495a8eae994278dc6566": {
      "model_module": "@jupyter-widgets/controls",
      "model_module_version": "1.5.0",
      "model_name": "FloatSliderModel",
      "state": {
       "continuous_update": false,
       "description": "Percentage stock:",
       "layout": "IPY_MODEL_8d8d9f5bc77644f09199ee7fc0be7949",
       "max": 1,
       "readout_format": ".3f",
       "step": 0.001,
       "style": "IPY_MODEL_4a30258c6df242c7ac312c9098226105",
       "value": 0.333
      }
     },
     "4d97d0afec444290bfb814e8fdc0bd40": {
      "model_module": "@jupyter-widgets/output",
      "model_module_version": "1.0.0",
      "model_name": "OutputModel",
      "state": {
       "layout": "IPY_MODEL_0b81b0d420094f2a994ee8fc2cdf1b17",
       "outputs": [
        {
         "name": "stdout",
         "output_type": "stream",
         "text": "Output generated!\nInvestition report start date:\n2022-12-07\nInvestition report end date:\n2023-01-06\nInvestiion input data:\nCNY\n0.812\nINR\n0.15900000000000003\nINR\n0.028999999999999915\nInvestiion output data:\nCNY in stock: 815.1733625136783. pct: 0.8094903601409108\nINR in stock: 162.25367025870165. pct: 0.1611225145616766\nINR in stock: 29.59343671385116. pct: 0.029387125297412626\nStock value: 1007.020469486231\n"
        }
       ]
      }
     },
     "4ef6a710bfcc4705b0210c96f82a575f": {
      "model_module": "@jupyter-widgets/output",
      "model_module_version": "1.0.0",
      "model_name": "OutputModel",
      "state": {
       "layout": "IPY_MODEL_ac3af143ffba444ea5307fc22ef1ffcc",
       "outputs": [
        {
         "name": "stdout",
         "output_type": "stream",
         "text": "Output generated!\nInvestition report start date:\n2023-04-27\nInvestition report end date:\n2023-05-27\nInvestition input data:\nTHB\n0.333\nUSD\n0.333\nAUD\n0.334\nInvestition output data:\n"
        },
        {
         "ename": "JSONDecodeError",
         "evalue": "Extra data: line 1 column 5 (char 4)",
         "output_type": "error",
         "traceback": [
          "\u001b[1;31m---------------------------------------------------------------------------\u001b[0m",
          "\u001b[1;31mJSONDecodeError\u001b[0m                           Traceback (most recent call last)",
          "File \u001b[1;32m~\\anaconda3\\lib\\site-packages\\requests\\models.py:971\u001b[0m, in \u001b[0;36mResponse.json\u001b[1;34m(self, **kwargs)\u001b[0m\n\u001b[0;32m    970\u001b[0m \u001b[38;5;28;01mtry\u001b[39;00m:\n\u001b[1;32m--> 971\u001b[0m     \u001b[38;5;28;01mreturn\u001b[39;00m complexjson\u001b[38;5;241m.\u001b[39mloads(\u001b[38;5;28mself\u001b[39m\u001b[38;5;241m.\u001b[39mtext, \u001b[38;5;241m*\u001b[39m\u001b[38;5;241m*\u001b[39mkwargs)\n\u001b[0;32m    972\u001b[0m \u001b[38;5;28;01mexcept\u001b[39;00m JSONDecodeError \u001b[38;5;28;01mas\u001b[39;00m e:\n\u001b[0;32m    973\u001b[0m     \u001b[38;5;66;03m# Catch JSON-related errors and raise as requests.JSONDecodeError\u001b[39;00m\n\u001b[0;32m    974\u001b[0m     \u001b[38;5;66;03m# This aliases json.JSONDecodeError and simplejson.JSONDecodeError\u001b[39;00m\n",
          "File \u001b[1;32m~\\anaconda3\\lib\\json\\__init__.py:346\u001b[0m, in \u001b[0;36mloads\u001b[1;34m(s, cls, object_hook, parse_float, parse_int, parse_constant, object_pairs_hook, **kw)\u001b[0m\n\u001b[0;32m    343\u001b[0m \u001b[38;5;28;01mif\u001b[39;00m (\u001b[38;5;28mcls\u001b[39m \u001b[38;5;129;01mis\u001b[39;00m \u001b[38;5;28;01mNone\u001b[39;00m \u001b[38;5;129;01mand\u001b[39;00m object_hook \u001b[38;5;129;01mis\u001b[39;00m \u001b[38;5;28;01mNone\u001b[39;00m \u001b[38;5;129;01mand\u001b[39;00m\n\u001b[0;32m    344\u001b[0m         parse_int \u001b[38;5;129;01mis\u001b[39;00m \u001b[38;5;28;01mNone\u001b[39;00m \u001b[38;5;129;01mand\u001b[39;00m parse_float \u001b[38;5;129;01mis\u001b[39;00m \u001b[38;5;28;01mNone\u001b[39;00m \u001b[38;5;129;01mand\u001b[39;00m\n\u001b[0;32m    345\u001b[0m         parse_constant \u001b[38;5;129;01mis\u001b[39;00m \u001b[38;5;28;01mNone\u001b[39;00m \u001b[38;5;129;01mand\u001b[39;00m object_pairs_hook \u001b[38;5;129;01mis\u001b[39;00m \u001b[38;5;28;01mNone\u001b[39;00m \u001b[38;5;129;01mand\u001b[39;00m \u001b[38;5;129;01mnot\u001b[39;00m kw):\n\u001b[1;32m--> 346\u001b[0m     \u001b[38;5;28;01mreturn\u001b[39;00m \u001b[43m_default_decoder\u001b[49m\u001b[38;5;241;43m.\u001b[39;49m\u001b[43mdecode\u001b[49m\u001b[43m(\u001b[49m\u001b[43ms\u001b[49m\u001b[43m)\u001b[49m\n\u001b[0;32m    347\u001b[0m \u001b[38;5;28;01mif\u001b[39;00m \u001b[38;5;28mcls\u001b[39m \u001b[38;5;129;01mis\u001b[39;00m \u001b[38;5;28;01mNone\u001b[39;00m:\n",
          "File \u001b[1;32m~\\anaconda3\\lib\\json\\decoder.py:340\u001b[0m, in \u001b[0;36mJSONDecoder.decode\u001b[1;34m(self, s, _w)\u001b[0m\n\u001b[0;32m    339\u001b[0m \u001b[38;5;28;01mif\u001b[39;00m end \u001b[38;5;241m!=\u001b[39m \u001b[38;5;28mlen\u001b[39m(s):\n\u001b[1;32m--> 340\u001b[0m     \u001b[38;5;28;01mraise\u001b[39;00m JSONDecodeError(\u001b[38;5;124m\"\u001b[39m\u001b[38;5;124mExtra data\u001b[39m\u001b[38;5;124m\"\u001b[39m, s, end)\n\u001b[0;32m    341\u001b[0m \u001b[38;5;28;01mreturn\u001b[39;00m obj\n",
          "\u001b[1;31mJSONDecodeError\u001b[0m: Extra data: line 1 column 5 (char 4)",
          "\nDuring handling of the above exception, another exception occurred:\n",
          "\u001b[1;31mJSONDecodeError\u001b[0m                           Traceback (most recent call last)",
          "Cell \u001b[1;32mIn[8], line 18\u001b[0m, in \u001b[0;36mon_button_clicked\u001b[1;34m(b)\u001b[0m\n\u001b[0;32m     16\u001b[0m \u001b[38;5;28mprint\u001b[39m(w3a\u001b[38;5;241m.\u001b[39mvalue)\n\u001b[0;32m     17\u001b[0m \u001b[38;5;28mprint\u001b[39m(\u001b[38;5;124m\"\u001b[39m\u001b[38;5;124mInvestition output data:\u001b[39m\u001b[38;5;124m\"\u001b[39m)\n\u001b[1;32m---> 18\u001b[0m portfolio_value \u001b[38;5;241m=\u001b[39m \u001b[43mcalculate_portfolio\u001b[49m\u001b[43m(\u001b[49m\u001b[43mcurrency1\u001b[49m\u001b[38;5;241;43m=\u001b[39;49m\u001b[43mw1\u001b[49m\u001b[38;5;241;43m.\u001b[39;49m\u001b[43mvalue\u001b[49m\u001b[43m,\u001b[49m\u001b[43m \u001b[49m\u001b[43mpct1\u001b[49m\u001b[38;5;241;43m=\u001b[39;49m\u001b[43mw1a\u001b[49m\u001b[38;5;241;43m.\u001b[39;49m\u001b[43mvalue\u001b[49m\u001b[43m,\u001b[49m\n\u001b[0;32m     19\u001b[0m \u001b[43m                \u001b[49m\u001b[43mcurrency2\u001b[49m\u001b[38;5;241;43m=\u001b[39;49m\u001b[43mw2\u001b[49m\u001b[38;5;241;43m.\u001b[39;49m\u001b[43mvalue\u001b[49m\u001b[43m,\u001b[49m\u001b[43m \u001b[49m\u001b[43mpct2\u001b[49m\u001b[38;5;241;43m=\u001b[39;49m\u001b[43mw2a\u001b[49m\u001b[38;5;241;43m.\u001b[39;49m\u001b[43mvalue\u001b[49m\u001b[43m,\u001b[49m\n\u001b[0;32m     20\u001b[0m \u001b[43m                \u001b[49m\u001b[43mcurrency3\u001b[49m\u001b[38;5;241;43m=\u001b[39;49m\u001b[43mw3\u001b[49m\u001b[38;5;241;43m.\u001b[39;49m\u001b[43mvalue\u001b[49m\u001b[43m,\u001b[49m\u001b[43m \u001b[49m\u001b[43mpct3\u001b[49m\u001b[38;5;241;43m=\u001b[39;49m\u001b[43mw3a\u001b[49m\u001b[38;5;241;43m.\u001b[39;49m\u001b[43mvalue\u001b[49m\u001b[43m,\u001b[49m\n\u001b[0;32m     21\u001b[0m \u001b[43m                \u001b[49m\u001b[43mstock\u001b[49m\u001b[38;5;241;43m=\u001b[39;49m\u001b[43mw4\u001b[49m\u001b[38;5;241;43m.\u001b[39;49m\u001b[43mvalue\u001b[49m\u001b[43m,\u001b[49m\u001b[43m \u001b[49m\u001b[43mdate\u001b[49m\u001b[38;5;241;43m=\u001b[39;49m\u001b[43mdate\u001b[49m\u001b[38;5;241;43m.\u001b[39;49m\u001b[43mvalue\u001b[49m\u001b[43m)\u001b[49m\n\u001b[0;32m     22\u001b[0m plt\u001b[38;5;241m.\u001b[39mcla()\n\u001b[0;32m     23\u001b[0m plt\u001b[38;5;241m.\u001b[39mplot(portfolio_value)\n",
          "Cell \u001b[1;32mIn[7], line 133\u001b[0m, in \u001b[0;36mcalculate_portfolio\u001b[1;34m(currency1, pct1, currency2, pct2, currency3, pct3, stock, date)\u001b[0m\n\u001b[0;32m    129\u001b[0m \u001b[38;5;28;01mdef\u001b[39;00m \u001b[38;5;21mcalculate_portfolio\u001b[39m(currency1\u001b[38;5;241m=\u001b[39mw1\u001b[38;5;241m.\u001b[39mvalue, pct1\u001b[38;5;241m=\u001b[39mw1a\u001b[38;5;241m.\u001b[39mvalue,\n\u001b[0;32m    130\u001b[0m                         currency2\u001b[38;5;241m=\u001b[39mw2\u001b[38;5;241m.\u001b[39mvalue, pct2\u001b[38;5;241m=\u001b[39mw2a\u001b[38;5;241m.\u001b[39mvalue,\n\u001b[0;32m    131\u001b[0m                         currency3\u001b[38;5;241m=\u001b[39mw3\u001b[38;5;241m.\u001b[39mvalue, pct3\u001b[38;5;241m=\u001b[39mw3a\u001b[38;5;241m.\u001b[39mvalue,\n\u001b[0;32m    132\u001b[0m                         stock\u001b[38;5;241m=\u001b[39mw4\u001b[38;5;241m.\u001b[39mvalue, date\u001b[38;5;241m=\u001b[39mdate\u001b[38;5;241m.\u001b[39mvalue):\n\u001b[1;32m--> 133\u001b[0m     Changes1\u001b[38;5;241m=\u001b[39m\u001b[43mcalculate_changes\u001b[49m\u001b[43m(\u001b[49m\u001b[43mcurrency\u001b[49m\u001b[38;5;241;43m=\u001b[39;49m\u001b[43mcurrency1\u001b[49m\u001b[43m,\u001b[49m\u001b[43m \u001b[49m\u001b[43mdate\u001b[49m\u001b[38;5;241;43m=\u001b[39;49m\u001b[43mdate\u001b[49m\u001b[43m)\u001b[49m\n\u001b[0;32m    134\u001b[0m     Changes2\u001b[38;5;241m=\u001b[39mcalculate_changes(currency\u001b[38;5;241m=\u001b[39mcurrency2, date\u001b[38;5;241m=\u001b[39mdate)\n\u001b[0;32m    135\u001b[0m     Changes3\u001b[38;5;241m=\u001b[39mcalculate_changes(currency\u001b[38;5;241m=\u001b[39mcurrency2, date\u001b[38;5;241m=\u001b[39mdate)\n",
          "Cell \u001b[1;32mIn[7], line 119\u001b[0m, in \u001b[0;36mcalculate_changes\u001b[1;34m(currency, date)\u001b[0m\n\u001b[0;32m    117\u001b[0m stringBuilder \u001b[38;5;241m=\u001b[39m \u001b[38;5;124m\"\u001b[39m\u001b[38;5;124mhttp://api.nbp.pl/api/exchangerates/rates/A/\u001b[39m\u001b[38;5;124m\"\u001b[39m \u001b[38;5;241m+\u001b[39m currency \u001b[38;5;241m+\u001b[39m \u001b[38;5;124m\"\u001b[39m\u001b[38;5;124m/\u001b[39m\u001b[38;5;124m\"\u001b[39m \u001b[38;5;241m+\u001b[39m\u001b[38;5;28mstr\u001b[39m(date) \u001b[38;5;241m+\u001b[39m\u001b[38;5;124m\"\u001b[39m\u001b[38;5;124m/\u001b[39m\u001b[38;5;124m\"\u001b[39m \u001b[38;5;241m+\u001b[39m\u001b[38;5;28mstr\u001b[39m(date \u001b[38;5;241m+\u001b[39m datetime\u001b[38;5;241m.\u001b[39mtimedelta(days\u001b[38;5;241m=\u001b[39m\u001b[38;5;241m30\u001b[39m)) \u001b[38;5;241m+\u001b[39m\u001b[38;5;124m\"\u001b[39m\u001b[38;5;124m/?format=json\u001b[39m\u001b[38;5;124m\"\u001b[39m\n\u001b[0;32m    118\u001b[0m Currency1 \u001b[38;5;241m=\u001b[39m requests\u001b[38;5;241m.\u001b[39mget(stringBuilder)\n\u001b[1;32m--> 119\u001b[0m Currency1  \u001b[38;5;241m=\u001b[39m \u001b[43mCurrency1\u001b[49m\u001b[38;5;241;43m.\u001b[39;49m\u001b[43mjson\u001b[49m\u001b[43m(\u001b[49m\u001b[43m)\u001b[49m\n\u001b[0;32m    120\u001b[0m Currency1list \u001b[38;5;241m=\u001b[39m []\n\u001b[0;32m    121\u001b[0m \u001b[38;5;28;01mfor\u001b[39;00m x \u001b[38;5;129;01min\u001b[39;00m Currency1[\u001b[38;5;124m\"\u001b[39m\u001b[38;5;124mrates\u001b[39m\u001b[38;5;124m\"\u001b[39m]:\n",
          "File \u001b[1;32m~\\anaconda3\\lib\\site-packages\\requests\\models.py:975\u001b[0m, in \u001b[0;36mResponse.json\u001b[1;34m(self, **kwargs)\u001b[0m\n\u001b[0;32m    971\u001b[0m     \u001b[38;5;28;01mreturn\u001b[39;00m complexjson\u001b[38;5;241m.\u001b[39mloads(\u001b[38;5;28mself\u001b[39m\u001b[38;5;241m.\u001b[39mtext, \u001b[38;5;241m*\u001b[39m\u001b[38;5;241m*\u001b[39mkwargs)\n\u001b[0;32m    972\u001b[0m \u001b[38;5;28;01mexcept\u001b[39;00m JSONDecodeError \u001b[38;5;28;01mas\u001b[39;00m e:\n\u001b[0;32m    973\u001b[0m     \u001b[38;5;66;03m# Catch JSON-related errors and raise as requests.JSONDecodeError\u001b[39;00m\n\u001b[0;32m    974\u001b[0m     \u001b[38;5;66;03m# This aliases json.JSONDecodeError and simplejson.JSONDecodeError\u001b[39;00m\n\u001b[1;32m--> 975\u001b[0m     \u001b[38;5;28;01mraise\u001b[39;00m RequestsJSONDecodeError(e\u001b[38;5;241m.\u001b[39mmsg, e\u001b[38;5;241m.\u001b[39mdoc, e\u001b[38;5;241m.\u001b[39mpos)\n",
          "\u001b[1;31mJSONDecodeError\u001b[0m: Extra data: line 1 column 5 (char 4)"
         ]
        }
       ]
      }
     },
     "4f0be8a7b406497eb67578232b21e7e0": {
      "model_module": "@jupyter-widgets/base",
      "model_module_version": "1.2.0",
      "model_name": "LayoutModel",
      "state": {}
     },
     "51ab08f5f64c42e199d0f6e228050d40": {
      "model_module": "@jupyter-widgets/base",
      "model_module_version": "1.2.0",
      "model_name": "LayoutModel",
      "state": {}
     },
     "525e9c15814f4725ae81f2d816fa031c": {
      "model_module": "@jupyter-widgets/base",
      "model_module_version": "1.2.0",
      "model_name": "LayoutModel",
      "state": {}
     },
     "52a5e2c20d3a44808796051c2e87c7e0": {
      "model_module": "@jupyter-widgets/output",
      "model_module_version": "1.0.0",
      "model_name": "OutputModel",
      "state": {
       "layout": "IPY_MODEL_98e6d735be814920a536d68ef2498373",
       "outputs": [
        {
         "name": "stdout",
         "output_type": "stream",
         "text": "Output generated!\nInvestition report start date:\n2018-06-01\nInvestition report end date:\n2018-07-01\nInvestition input data:\nTHB\n0.333\nUSD\n0.333\nAUD\n0.334\nInvestition output data:\nTHB in stock: 340.0725663716815. pct: 0.340734241645141\nUSD in stock: 328.49951923076924. pct: 0.3291386769597722\nAUD in stock: 329.4860042735043. pct: 0.3301270813950869\nStock value: 998.0580898759549\n"
        }
       ]
      }
     },
     "562413b7e1724133ae413c3a231cb5d0": {
      "model_module": "@jupyter-widgets/controls",
      "model_module_version": "1.5.0",
      "model_name": "DescriptionStyleModel",
      "state": {
       "description_width": ""
      }
     },
     "562c0b81ab664903813522eb178f1037": {
      "model_module": "@jupyter-widgets/base",
      "model_module_version": "1.2.0",
      "model_name": "LayoutModel",
      "state": {}
     },
     "564ffcf8bff949ec84718067950b84f1": {
      "model_module": "@jupyter-widgets/base",
      "model_module_version": "1.2.0",
      "model_name": "LayoutModel",
      "state": {}
     },
     "577f1627c6c94e818c7322eb2659eb1a": {
      "model_module": "@jupyter-widgets/base",
      "model_module_version": "1.2.0",
      "model_name": "LayoutModel",
      "state": {}
     },
     "5829c810dc654aa2ace578884676e486": {
      "model_module": "@jupyter-widgets/controls",
      "model_module_version": "1.5.0",
      "model_name": "FloatSliderModel",
      "state": {
       "continuous_update": false,
       "description": "Percentage stock:",
       "layout": "IPY_MODEL_f1a8161a7c704124880332f58cc402fd",
       "max": 1,
       "readout_format": ".3f",
       "step": 0.001,
       "style": "IPY_MODEL_279d3e52192f471da8d1d34f5cce42f6",
       "value": 0.334
      }
     },
     "594dc51ed388487cbe309ab16076092e": {
      "model_module": "@jupyter-widgets/output",
      "model_module_version": "1.0.0",
      "model_name": "OutputModel",
      "state": {
       "layout": "IPY_MODEL_e08c35dc82664273be4f786336861505",
       "outputs": [
        {
         "name": "stdout",
         "output_type": "stream",
         "text": "Output generated!\nInvestition report start date:\n2023-02-01\nInvestition report end date:\n2023-03-03\nInvestition input data:\nTHB\n0.333\nUSD\n0.333\nAUD\n0.334\nInvestition output data:\nTHB in stock: 343.16197183098564. pct: 0.3452991102435065\nUSD in stock: 324.83665230824744. pct: 0.326859664601068\nAUD in stock: 325.8121377506145. pct: 0.3278412251554256\nStock value: 993.8107618898475\n"
        }
       ]
      }
     },
     "5b8e4218c44a4592903f7b7b0ff6a0ab": {
      "model_module": "@jupyter-widgets/controls",
      "model_module_version": "1.5.0",
      "model_name": "SliderStyleModel",
      "state": {
       "description_width": ""
      }
     },
     "5baa6ca583ef4ca490a5b55b4237cb10": {
      "model_module": "@jupyter-widgets/base",
      "model_module_version": "1.2.0",
      "model_name": "LayoutModel",
      "state": {}
     },
     "5bc6d8907b234f9ca7cf4e434289610d": {
      "model_module": "@jupyter-widgets/controls",
      "model_module_version": "1.5.0",
      "model_name": "DescriptionStyleModel",
      "state": {
       "description_width": ""
      }
     },
     "5c26bd465f764434a4c7ec28e26fa755": {
      "model_module": "@jupyter-widgets/controls",
      "model_module_version": "1.5.0",
      "model_name": "SliderStyleModel",
      "state": {
       "description_width": ""
      }
     },
     "5c3ee4411782481a8ea3c80dd8c1295b": {
      "model_module": "@jupyter-widgets/controls",
      "model_module_version": "1.5.0",
      "model_name": "DatePickerModel",
      "state": {
       "description": "Pick a Date",
       "disabled": false,
       "layout": "IPY_MODEL_a8bcacbaf9974e52914a1143ace9d9fc",
       "style": "IPY_MODEL_c23bab0a8536418ea8a2df050a96284e",
       "value": {
        "date": 1,
        "month": 1,
        "year": 2023
       }
      }
     },
     "5d6693c4e1194e2081c91621efebff33": {
      "model_module": "@jupyter-widgets/base",
      "model_module_version": "1.2.0",
      "model_name": "LayoutModel",
      "state": {}
     },
     "5ddb593940a746018ea861000f1e3ff1": {
      "model_module": "@jupyter-widgets/controls",
      "model_module_version": "1.5.0",
      "model_name": "IntTextModel",
      "state": {
       "description": "Stock:",
       "layout": "IPY_MODEL_44861d4b73a34839b0746cd9e5ec86c9",
       "step": 1,
       "style": "IPY_MODEL_5ee494fad3d640e6abc445a6c96ee9f2",
       "value": 1000
      }
     },
     "5ee494fad3d640e6abc445a6c96ee9f2": {
      "model_module": "@jupyter-widgets/controls",
      "model_module_version": "1.5.0",
      "model_name": "DescriptionStyleModel",
      "state": {
       "description_width": ""
      }
     },
     "5effc894952b497399a1d7dd2a7bfccb": {
      "model_module": "@jupyter-widgets/controls",
      "model_module_version": "1.5.0",
      "model_name": "DatePickerModel",
      "state": {
       "description": "Pick a Date",
       "disabled": false,
       "layout": "IPY_MODEL_97e77ba6954f40578f8e0bd54190124f",
       "style": "IPY_MODEL_98833dfa4314441c9953c09658358ae3",
       "value": {
        "date": 7,
        "month": 11,
        "year": 2022
       }
      }
     },
     "604667a02fe84db4a9c8915fdf25d97b": {
      "model_module": "@jupyter-widgets/controls",
      "model_module_version": "1.5.0",
      "model_name": "FloatSliderModel",
      "state": {
       "continuous_update": false,
       "description": "Percentage stock:",
       "layout": "IPY_MODEL_1bd60979e9ac41a2a618a9e2cc7d5db6",
       "max": 1,
       "readout_format": ".3f",
       "step": 0.001,
       "style": "IPY_MODEL_b7713c90f59647a19c5b81930932b3e3",
       "value": 0.15900000000000003
      }
     },
     "62088d0b73ef492989385703c39ce6c8": {
      "model_module": "@jupyter-widgets/base",
      "model_module_version": "1.2.0",
      "model_name": "LayoutModel",
      "state": {}
     },
     "65b7d44fe6634f2c9a8f86f1cd1aeb81": {
      "model_module": "@jupyter-widgets/controls",
      "model_module_version": "1.5.0",
      "model_name": "DropdownModel",
      "state": {
       "_options_labels": [
        "THB",
        "USD",
        "AUD",
        "HKD",
        "CAD",
        "NZD",
        "SGD",
        "EUR",
        "HUF",
        "CHF",
        "GBP",
        "UAH",
        "JPY",
        "CZK",
        "DKK",
        "ISK",
        "NOK",
        "SEK",
        "RON",
        "BGN",
        "TRY",
        "ILS",
        "CLP",
        "PHP",
        "MXN",
        "ZAR",
        "BRL",
        "MYR",
        "IDR",
        "INR",
        "KRW",
        "CNY",
        "XDR"
       ],
       "description": "currency:",
       "index": 0,
       "layout": "IPY_MODEL_df4d8535caf64529809d9baef69b67a6",
       "style": "IPY_MODEL_9a07b97ed836447a88d2b71f1beb6712"
      }
     },
     "66e345437b42470891b220aad695d98a": {
      "model_module": "@jupyter-widgets/base",
      "model_module_version": "1.2.0",
      "model_name": "LayoutModel",
      "state": {}
     },
     "670ac2201e41424e9d5ff904a32dd882": {
      "model_module": "@jupyter-widgets/controls",
      "model_module_version": "1.5.0",
      "model_name": "DropdownModel",
      "state": {
       "_options_labels": [
        "THB",
        "USD",
        "AUD",
        "HKD",
        "CAD",
        "NZD",
        "SGD",
        "EUR",
        "HUF",
        "CHF",
        "GBP",
        "UAH",
        "JPY",
        "CZK",
        "DKK",
        "ISK",
        "NOK",
        "SEK",
        "RON",
        "BGN",
        "TRY",
        "ILS",
        "CLP",
        "PHP",
        "MXN",
        "ZAR",
        "BRL",
        "MYR",
        "IDR",
        "INR",
        "KRW",
        "CNY",
        "XDR"
       ],
       "description": "currency:",
       "index": 29,
       "layout": "IPY_MODEL_023111b7c18945eeb3ad12affdf41230",
       "style": "IPY_MODEL_c216bc226a764885852afd655472ed7d"
      }
     },
     "6793ea2473eb40fbb4b96622124f79d9": {
      "model_module": "@jupyter-widgets/controls",
      "model_module_version": "1.5.0",
      "model_name": "FloatSliderModel",
      "state": {
       "continuous_update": false,
       "description": "Percentage stock:",
       "layout": "IPY_MODEL_5baa6ca583ef4ca490a5b55b4237cb10",
       "max": 1,
       "readout_format": ".3f",
       "step": 0.001,
       "style": "IPY_MODEL_0d635f6a904443b6889e966a29799eea",
       "value": 0.334
      }
     },
     "695de1a2ded946c3bbe47161bc92ca15": {
      "model_module": "@jupyter-widgets/base",
      "model_module_version": "1.2.0",
      "model_name": "LayoutModel",
      "state": {}
     },
     "6984d80dbb0140bcb4cf21a9929ab207": {
      "model_module": "@jupyter-widgets/controls",
      "model_module_version": "1.5.0",
      "model_name": "DropdownModel",
      "state": {
       "_options_labels": [
        "THB",
        "USD",
        "AUD",
        "HKD",
        "CAD",
        "NZD",
        "SGD",
        "EUR",
        "HUF",
        "CHF",
        "GBP",
        "UAH",
        "JPY",
        "CZK",
        "DKK",
        "ISK",
        "NOK",
        "SEK",
        "RON",
        "BGN",
        "TRY",
        "ILS",
        "CLP",
        "PHP",
        "MXN",
        "ZAR",
        "BRL",
        "MYR",
        "IDR",
        "INR",
        "KRW",
        "CNY",
        "XDR"
       ],
       "description": "currency:",
       "index": 0,
       "layout": "IPY_MODEL_2d7accc8c7184becb5b44d807c4425e7",
       "style": "IPY_MODEL_5bc6d8907b234f9ca7cf4e434289610d"
      }
     },
     "6c865081865b40518f2ce24caafaf753": {
      "model_module": "@jupyter-widgets/controls",
      "model_module_version": "1.5.0",
      "model_name": "DescriptionStyleModel",
      "state": {
       "description_width": ""
      }
     },
     "6db4903b98aa4fa8af749486c8e543ea": {
      "model_module": "@jupyter-widgets/controls",
      "model_module_version": "1.5.0",
      "model_name": "DescriptionStyleModel",
      "state": {
       "description_width": ""
      }
     },
     "6e3713be71ab422f8c48e4a7aeebf620": {
      "model_module": "@jupyter-widgets/base",
      "model_module_version": "1.2.0",
      "model_name": "LayoutModel",
      "state": {}
     },
     "6eab62e62aeb4ee499601376dbd1badf": {
      "model_module": "@jupyter-widgets/base",
      "model_module_version": "1.2.0",
      "model_name": "LayoutModel",
      "state": {}
     },
     "701d815ec77f4f25b3f1c61e85320521": {
      "model_module": "@jupyter-widgets/output",
      "model_module_version": "1.0.0",
      "model_name": "OutputModel",
      "state": {
       "layout": "IPY_MODEL_af99174e9b8d43e191349be7b73e75f7"
      }
     },
     "71c5fe78b0e14badb5fa2c321d18e78f": {
      "model_module": "@jupyter-widgets/controls",
      "model_module_version": "1.5.0",
      "model_name": "DescriptionStyleModel",
      "state": {
       "description_width": ""
      }
     },
     "727e138c37ca4bd1a876e09a14dcd56e": {
      "model_module": "@jupyter-widgets/controls",
      "model_module_version": "1.5.0",
      "model_name": "SliderStyleModel",
      "state": {
       "description_width": ""
      }
     },
     "7281dce02e404f5b873a65cdcabdf856": {
      "model_module": "@jupyter-widgets/base",
      "model_module_version": "1.2.0",
      "model_name": "LayoutModel",
      "state": {}
     },
     "730e50bfefd44c818924d1542e510f9a": {
      "model_module": "@jupyter-widgets/controls",
      "model_module_version": "1.5.0",
      "model_name": "SliderStyleModel",
      "state": {
       "description_width": ""
      }
     },
     "74287cea42944a5c915aded82560c290": {
      "model_module": "@jupyter-widgets/controls",
      "model_module_version": "1.5.0",
      "model_name": "DropdownModel",
      "state": {
       "_options_labels": [
        "THB",
        "USD",
        "AUD",
        "HKD",
        "CAD",
        "NZD",
        "SGD",
        "EUR",
        "HUF",
        "CHF",
        "GBP",
        "UAH",
        "JPY",
        "CZK",
        "DKK",
        "ISK",
        "NOK",
        "SEK",
        "RON",
        "BGN",
        "TRY",
        "ILS",
        "CLP",
        "PHP",
        "MXN",
        "ZAR",
        "BRL",
        "MYR",
        "IDR",
        "INR",
        "KRW",
        "CNY",
        "XDR"
       ],
       "description": "currency:",
       "index": 2,
       "layout": "IPY_MODEL_66e345437b42470891b220aad695d98a",
       "style": "IPY_MODEL_028304f2b410430687db7bdda61d9f2d"
      }
     },
     "74a3e7b1065b4f948ffc87de150ccfad": {
      "model_module": "@jupyter-widgets/base",
      "model_module_version": "1.2.0",
      "model_name": "LayoutModel",
      "state": {}
     },
     "75d102e771e04179a8536665c7c4f167": {
      "model_module": "@jupyter-widgets/controls",
      "model_module_version": "1.5.0",
      "model_name": "SliderStyleModel",
      "state": {
       "description_width": ""
      }
     },
     "75f2c8327f994c86a28cfe4ca4b1dc7b": {
      "model_module": "@jupyter-widgets/base",
      "model_module_version": "1.2.0",
      "model_name": "LayoutModel",
      "state": {}
     },
     "774fa14b59c242e3b743acd7602e5f66": {
      "model_module": "@jupyter-widgets/controls",
      "model_module_version": "1.5.0",
      "model_name": "FloatSliderModel",
      "state": {
       "continuous_update": false,
       "description": "Percentage stock:",
       "layout": "IPY_MODEL_3b232c00fadd42d2bad059bf38d14726",
       "max": 1,
       "readout_format": ".3f",
       "step": 0.001,
       "style": "IPY_MODEL_e5cafccff89844ecaf1708415ecdfa82",
       "value": 0.333
      }
     },
     "783688324f044d2ea195315a66399b34": {
      "model_module": "@jupyter-widgets/base",
      "model_module_version": "1.2.0",
      "model_name": "LayoutModel",
      "state": {}
     },
     "792dbbe7377a413bbb850ce3e3d830d3": {
      "model_module": "@jupyter-widgets/controls",
      "model_module_version": "1.5.0",
      "model_name": "DescriptionStyleModel",
      "state": {
       "description_width": ""
      }
     },
     "7990f6637e5a493190ab376361eca89e": {
      "model_module": "@jupyter-widgets/controls",
      "model_module_version": "1.5.0",
      "model_name": "SliderStyleModel",
      "state": {
       "description_width": ""
      }
     },
     "7afd5641b1d3438697ae1cd96e9aff27": {
      "model_module": "@jupyter-widgets/controls",
      "model_module_version": "1.5.0",
      "model_name": "SliderStyleModel",
      "state": {
       "description_width": ""
      }
     },
     "7e606f491d6a4456a59916985ab53348": {
      "model_module": "@jupyter-widgets/base",
      "model_module_version": "1.2.0",
      "model_name": "LayoutModel",
      "state": {}
     },
     "7ea7456e2f92400a8c71420e9b0e68f9": {
      "model_module": "@jupyter-widgets/base",
      "model_module_version": "1.2.0",
      "model_name": "LayoutModel",
      "state": {}
     },
     "809cec1c0ca2478a81620e1125966291": {
      "model_module": "@jupyter-widgets/controls",
      "model_module_version": "1.5.0",
      "model_name": "DatePickerModel",
      "state": {
       "description": "Pick a Date",
       "disabled": false,
       "layout": "IPY_MODEL_e9456a6683514d7aa5a1656c69be7860",
       "style": "IPY_MODEL_c9474b9da5f6421b8499c0b2521f801d",
       "value": {
        "date": 27,
        "month": 3,
        "year": 2023
       }
      }
     },
     "80b6e7e0c3654d879baa6dee74709a77": {
      "model_module": "@jupyter-widgets/controls",
      "model_module_version": "1.5.0",
      "model_name": "DescriptionStyleModel",
      "state": {
       "description_width": ""
      }
     },
     "80ff91b310ae423eaef0c0e5ca80dedd": {
      "model_module": "@jupyter-widgets/base",
      "model_module_version": "1.2.0",
      "model_name": "LayoutModel",
      "state": {}
     },
     "8363dcea621045cb8ce62a30c77ecf4f": {
      "model_module": "@jupyter-widgets/controls",
      "model_module_version": "1.5.0",
      "model_name": "FloatSliderModel",
      "state": {
       "continuous_update": false,
       "description": "Percentage stock:",
       "layout": "IPY_MODEL_e28beba1cc624e419ca5563d3852bb8c",
       "max": 1,
       "readout_format": ".3f",
       "step": 0.001,
       "style": "IPY_MODEL_7990f6637e5a493190ab376361eca89e",
       "value": 0.333
      }
     },
     "8440c50331dc40a49115350f608d9e70": {
      "model_module": "@jupyter-widgets/controls",
      "model_module_version": "1.5.0",
      "model_name": "DropdownModel",
      "state": {
       "_options_labels": [
        "THB",
        "USD",
        "AUD",
        "HKD",
        "CAD",
        "NZD",
        "SGD",
        "EUR",
        "HUF",
        "CHF",
        "GBP",
        "UAH",
        "JPY",
        "CZK",
        "DKK",
        "ISK",
        "NOK",
        "SEK",
        "RON",
        "BGN",
        "TRY",
        "ILS",
        "CLP",
        "PHP",
        "MXN",
        "ZAR",
        "BRL",
        "MYR",
        "IDR",
        "INR",
        "KRW",
        "CNY",
        "XDR"
       ],
       "description": "currency:",
       "index": 2,
       "layout": "IPY_MODEL_cb99d05624d541bb80db570e8f2696ea",
       "style": "IPY_MODEL_4bd812b626014fcc8fcce3db6067861e"
      }
     },
     "863b5359e4a54c7db605f23d677c2d6b": {
      "model_module": "@jupyter-widgets/controls",
      "model_module_version": "1.5.0",
      "model_name": "DropdownModel",
      "state": {
       "_options_labels": [
        "THB",
        "USD",
        "AUD",
        "HKD",
        "CAD",
        "NZD",
        "SGD",
        "EUR",
        "HUF",
        "CHF",
        "GBP",
        "UAH",
        "JPY",
        "CZK",
        "DKK",
        "ISK",
        "NOK",
        "SEK",
        "RON",
        "BGN",
        "TRY",
        "ILS",
        "CLP",
        "PHP",
        "MXN",
        "ZAR",
        "BRL",
        "MYR",
        "IDR",
        "INR",
        "KRW",
        "CNY",
        "XDR"
       ],
       "description": "currency:",
       "index": 2,
       "layout": "IPY_MODEL_c2ba405152844ffbb04e2c8cdcc788c2",
       "style": "IPY_MODEL_6c865081865b40518f2ce24caafaf753"
      }
     },
     "86a26d26c2da4f19a9982cd1fb111ec6": {
      "model_module": "@jupyter-widgets/base",
      "model_module_version": "1.2.0",
      "model_name": "LayoutModel",
      "state": {}
     },
     "8a3a610c72d44fffb983792470b2a668": {
      "model_module": "@jupyter-widgets/controls",
      "model_module_version": "1.5.0",
      "model_name": "FloatSliderModel",
      "state": {
       "continuous_update": false,
       "description": "Percentage stock:",
       "layout": "IPY_MODEL_f0d48ca305994364a6e2022b22d201c1",
       "max": 1,
       "readout_format": ".3f",
       "step": 0.001,
       "style": "IPY_MODEL_3fe4fe618fd246f683cb46e49d79af27",
       "value": 0.333
      }
     },
     "8a41559be56e458f967591d56cf7286c": {
      "model_module": "@jupyter-widgets/base",
      "model_module_version": "1.2.0",
      "model_name": "LayoutModel",
      "state": {}
     },
     "8b79e5d2248e4603af16c573e17c893a": {
      "model_module": "@jupyter-widgets/base",
      "model_module_version": "1.2.0",
      "model_name": "LayoutModel",
      "state": {}
     },
     "8bd9b246fcf446cdb6dbf95adc9f8e0c": {
      "model_module": "@jupyter-widgets/base",
      "model_module_version": "1.2.0",
      "model_name": "LayoutModel",
      "state": {}
     },
     "8c14e544ad7646628107ade199157136": {
      "model_module": "@jupyter-widgets/base",
      "model_module_version": "1.2.0",
      "model_name": "LayoutModel",
      "state": {}
     },
     "8c15c79641c8406ea58649a7443da802": {
      "model_module": "@jupyter-widgets/base",
      "model_module_version": "1.2.0",
      "model_name": "LayoutModel",
      "state": {}
     },
     "8d8d9f5bc77644f09199ee7fc0be7949": {
      "model_module": "@jupyter-widgets/base",
      "model_module_version": "1.2.0",
      "model_name": "LayoutModel",
      "state": {}
     },
     "8e53a9c633674038b6b321e6dc04bb0c": {
      "model_module": "@jupyter-widgets/output",
      "model_module_version": "1.0.0",
      "model_name": "OutputModel",
      "state": {
       "layout": "IPY_MODEL_75f2c8327f994c86a28cfe4ca4b1dc7b"
      }
     },
     "934cd0733480446ea59e0d549d694f26": {
      "model_module": "@jupyter-widgets/base",
      "model_module_version": "1.2.0",
      "model_name": "LayoutModel",
      "state": {}
     },
     "9423d923d5fb412e96e9e219e75bec0a": {
      "model_module": "@jupyter-widgets/base",
      "model_module_version": "1.2.0",
      "model_name": "LayoutModel",
      "state": {}
     },
     "953fab4c3fd047e8b563e48d9990f9d7": {
      "model_module": "@jupyter-widgets/base",
      "model_module_version": "1.2.0",
      "model_name": "LayoutModel",
      "state": {}
     },
     "9716a7c0c0344e3ba4b33d6492aa4284": {
      "model_module": "@jupyter-widgets/controls",
      "model_module_version": "1.5.0",
      "model_name": "DescriptionStyleModel",
      "state": {
       "description_width": ""
      }
     },
     "97e77ba6954f40578f8e0bd54190124f": {
      "model_module": "@jupyter-widgets/base",
      "model_module_version": "1.2.0",
      "model_name": "LayoutModel",
      "state": {}
     },
     "98833dfa4314441c9953c09658358ae3": {
      "model_module": "@jupyter-widgets/controls",
      "model_module_version": "1.5.0",
      "model_name": "DescriptionStyleModel",
      "state": {
       "description_width": ""
      }
     },
     "9890d153121a4b9fafc116c14f4c48db": {
      "model_module": "@jupyter-widgets/controls",
      "model_module_version": "1.5.0",
      "model_name": "DescriptionStyleModel",
      "state": {
       "description_width": ""
      }
     },
     "98e6d735be814920a536d68ef2498373": {
      "model_module": "@jupyter-widgets/base",
      "model_module_version": "1.2.0",
      "model_name": "LayoutModel",
      "state": {}
     },
     "9a07b97ed836447a88d2b71f1beb6712": {
      "model_module": "@jupyter-widgets/controls",
      "model_module_version": "1.5.0",
      "model_name": "DescriptionStyleModel",
      "state": {
       "description_width": ""
      }
     },
     "9a9582c0c9a1422b97153439004f2d1d": {
      "model_module": "@jupyter-widgets/controls",
      "model_module_version": "1.5.0",
      "model_name": "DropdownModel",
      "state": {
       "_options_labels": [
        "THB",
        "USD",
        "AUD",
        "HKD",
        "CAD",
        "NZD",
        "SGD",
        "EUR",
        "HUF",
        "CHF",
        "GBP",
        "UAH",
        "JPY",
        "CZK",
        "DKK",
        "ISK",
        "NOK",
        "SEK",
        "RON",
        "BGN",
        "TRY",
        "ILS",
        "CLP",
        "PHP",
        "MXN",
        "ZAR",
        "BRL",
        "MYR",
        "IDR",
        "INR",
        "KRW",
        "CNY",
        "XDR"
       ],
       "description": "currency:",
       "index": 2,
       "layout": "IPY_MODEL_2d6132cfe6f64fe8ae40d886aed554eb",
       "style": "IPY_MODEL_beea79c4cf0c438f8afee2339a9b522f"
      }
     },
     "9ab7a39c5dee41d6aaf9b353881df371": {
      "model_module": "@jupyter-widgets/controls",
      "model_module_version": "1.5.0",
      "model_name": "IntTextModel",
      "state": {
       "description": "Stock:",
       "layout": "IPY_MODEL_5d6693c4e1194e2081c91621efebff33",
       "step": 1,
       "style": "IPY_MODEL_281020504eab4ebead576c4da65fae9c",
       "value": 1000
      }
     },
     "9bebf52ad3174b44a7bcde2f000db6a9": {
      "model_module": "@jupyter-widgets/controls",
      "model_module_version": "1.5.0",
      "model_name": "DropdownModel",
      "state": {
       "_options_labels": [
        "THB",
        "USD",
        "AUD",
        "HKD",
        "CAD",
        "NZD",
        "SGD",
        "EUR",
        "HUF",
        "CHF",
        "GBP",
        "UAH",
        "JPY",
        "CZK",
        "DKK",
        "ISK",
        "NOK",
        "SEK",
        "RON",
        "BGN",
        "TRY",
        "ILS",
        "CLP",
        "PHP",
        "MXN",
        "ZAR",
        "BRL",
        "MYR",
        "IDR",
        "INR",
        "KRW",
        "CNY",
        "XDR"
       ],
       "description": "currency:",
       "index": 0,
       "layout": "IPY_MODEL_e1b390d97aa7408ab6626d4f554faf9d",
       "style": "IPY_MODEL_13f094431585465292172ad88f70cbb7"
      }
     },
     "9d364582f9a1426cbc3e7cdab265d679": {
      "model_module": "@jupyter-widgets/controls",
      "model_module_version": "1.5.0",
      "model_name": "SliderStyleModel",
      "state": {
       "description_width": ""
      }
     },
     "9daa66dec2f34623945e993dc248d825": {
      "model_module": "@jupyter-widgets/controls",
      "model_module_version": "1.5.0",
      "model_name": "FloatSliderModel",
      "state": {
       "continuous_update": false,
       "description": "Percentage stock:",
       "layout": "IPY_MODEL_8c14e544ad7646628107ade199157136",
       "max": 1,
       "readout_format": ".3f",
       "step": 0.001,
       "style": "IPY_MODEL_2249b105e07d492a93f10a85c771235b",
       "value": 0.333
      }
     },
     "9edec542dfe6432fb4801428534817bc": {
      "model_module": "@jupyter-widgets/controls",
      "model_module_version": "1.5.0",
      "model_name": "DropdownModel",
      "state": {
       "_options_labels": [
        "THB",
        "USD",
        "AUD",
        "HKD",
        "CAD",
        "NZD",
        "SGD",
        "EUR",
        "HUF",
        "CHF",
        "GBP",
        "UAH",
        "JPY",
        "CZK",
        "DKK",
        "ISK",
        "NOK",
        "SEK",
        "RON",
        "BGN",
        "TRY",
        "ILS",
        "CLP",
        "PHP",
        "MXN",
        "ZAR",
        "BRL",
        "MYR",
        "IDR",
        "INR",
        "KRW",
        "CNY",
        "XDR"
       ],
       "description": "currency:",
       "index": 1,
       "layout": "IPY_MODEL_ad6bbd26db384518b4cfbac2e396863c",
       "style": "IPY_MODEL_ce43691928114504816aa0191808a3d3"
      }
     },
     "9f8e4bc9eda4433a9fd255f3bdcea0a2": {
      "model_module": "@jupyter-widgets/controls",
      "model_module_version": "1.5.0",
      "model_name": "FloatSliderModel",
      "state": {
       "continuous_update": false,
       "description": "Percentage stock:",
       "layout": "IPY_MODEL_b1ccdbc586f94dff855a2ebe28fd5610",
       "max": 1,
       "readout_format": ".3f",
       "step": 0.001,
       "style": "IPY_MODEL_df979246ffa24cafa02f8cc35cb28fee",
       "value": 0.028999999999999915
      }
     },
     "a0f02199883a4db5a3c3b36b9c491786": {
      "model_module": "@jupyter-widgets/controls",
      "model_module_version": "1.5.0",
      "model_name": "DatePickerModel",
      "state": {
       "description": "Pick a Date",
       "disabled": false,
       "layout": "IPY_MODEL_6eab62e62aeb4ee499601376dbd1badf",
       "style": "IPY_MODEL_b46f2e9b28454cf78db5bbea2f8271a4",
       "value": {
        "date": 1,
        "month": 1,
        "year": 2023
       }
      }
     },
     "a302bc247b524ab29142dd7f8c875649": {
      "model_module": "@jupyter-widgets/controls",
      "model_module_version": "1.5.0",
      "model_name": "FloatSliderModel",
      "state": {
       "continuous_update": false,
       "description": "Percentage stock:",
       "layout": "IPY_MODEL_b09298debb9542a78bc7ad2b4fbe9c6e",
       "max": 1,
       "readout_format": ".3f",
       "step": 0.001,
       "style": "IPY_MODEL_ded883cbec7e476c914742b33172d19d",
       "value": 0.334
      }
     },
     "a31f1cb4c99d4646adf8c4d913926201": {
      "model_module": "@jupyter-widgets/base",
      "model_module_version": "1.2.0",
      "model_name": "LayoutModel",
      "state": {}
     },
     "a378a76eb81245d6b914b864ddb64596": {
      "model_module": "@jupyter-widgets/controls",
      "model_module_version": "1.5.0",
      "model_name": "ButtonModel",
      "state": {
       "description": "Generate output!",
       "layout": "IPY_MODEL_15e230a0aa0c430a8bbb3ad06ae9a053",
       "style": "IPY_MODEL_3c3e4e4344254ff8a88b159a9db56df2"
      }
     },
     "a463812d6a4e4bf3bff4d50c884d6432": {
      "model_module": "@jupyter-widgets/base",
      "model_module_version": "1.2.0",
      "model_name": "LayoutModel",
      "state": {}
     },
     "a6f46f3c3cf14c49b41cce3e68a83123": {
      "model_module": "@jupyter-widgets/controls",
      "model_module_version": "1.5.0",
      "model_name": "FloatSliderModel",
      "state": {
       "continuous_update": false,
       "description": "Percentage stock:",
       "layout": "IPY_MODEL_a463812d6a4e4bf3bff4d50c884d6432",
       "max": 1,
       "readout_format": ".3f",
       "step": 0.001,
       "style": "IPY_MODEL_4634df92882f44a69b7ba9e9aabd9052",
       "value": 0.333
      }
     },
     "a8bcacbaf9974e52914a1143ace9d9fc": {
      "model_module": "@jupyter-widgets/base",
      "model_module_version": "1.2.0",
      "model_name": "LayoutModel",
      "state": {}
     },
     "a9ca6a3f4987409caffd3ae34a54b0f7": {
      "model_module": "@jupyter-widgets/controls",
      "model_module_version": "1.5.0",
      "model_name": "DescriptionStyleModel",
      "state": {
       "description_width": ""
      }
     },
     "a9d2595f79194168911f0d87da771618": {
      "model_module": "@jupyter-widgets/controls",
      "model_module_version": "1.5.0",
      "model_name": "DescriptionStyleModel",
      "state": {
       "description_width": ""
      }
     },
     "aac03c4d5db14b1ab1fd83244ecc8574": {
      "model_module": "@jupyter-widgets/base",
      "model_module_version": "1.2.0",
      "model_name": "LayoutModel",
      "state": {}
     },
     "ac3af143ffba444ea5307fc22ef1ffcc": {
      "model_module": "@jupyter-widgets/base",
      "model_module_version": "1.2.0",
      "model_name": "LayoutModel",
      "state": {}
     },
     "ad6bbd26db384518b4cfbac2e396863c": {
      "model_module": "@jupyter-widgets/base",
      "model_module_version": "1.2.0",
      "model_name": "LayoutModel",
      "state": {}
     },
     "af99174e9b8d43e191349be7b73e75f7": {
      "model_module": "@jupyter-widgets/base",
      "model_module_version": "1.2.0",
      "model_name": "LayoutModel",
      "state": {}
     },
     "b09298debb9542a78bc7ad2b4fbe9c6e": {
      "model_module": "@jupyter-widgets/base",
      "model_module_version": "1.2.0",
      "model_name": "LayoutModel",
      "state": {}
     },
     "b1ccdbc586f94dff855a2ebe28fd5610": {
      "model_module": "@jupyter-widgets/base",
      "model_module_version": "1.2.0",
      "model_name": "LayoutModel",
      "state": {}
     },
     "b1d794bd6e47462b9cc31c73b4296624": {
      "model_module": "@jupyter-widgets/controls",
      "model_module_version": "1.5.0",
      "model_name": "DropdownModel",
      "state": {
       "_options_labels": [
        "THB",
        "USD",
        "AUD",
        "HKD",
        "CAD",
        "NZD",
        "SGD",
        "EUR",
        "HUF",
        "CHF",
        "GBP",
        "UAH",
        "JPY",
        "CZK",
        "DKK",
        "ISK",
        "NOK",
        "SEK",
        "RON",
        "BGN",
        "TRY",
        "ILS",
        "CLP",
        "PHP",
        "MXN",
        "ZAR",
        "BRL",
        "MYR",
        "IDR",
        "INR",
        "KRW",
        "CNY",
        "XDR"
       ],
       "description": "currency:",
       "index": 2,
       "layout": "IPY_MODEL_695de1a2ded946c3bbe47161bc92ca15",
       "style": "IPY_MODEL_4645990695204c739ede01a567fb92c3"
      }
     },
     "b43bb03a557f403eb5184717004050b2": {
      "model_module": "@jupyter-widgets/controls",
      "model_module_version": "1.5.0",
      "model_name": "DropdownModel",
      "state": {
       "_options_labels": [
        "THB",
        "USD",
        "AUD",
        "HKD",
        "CAD",
        "NZD",
        "SGD",
        "EUR",
        "HUF",
        "CHF",
        "GBP",
        "UAH",
        "JPY",
        "CZK",
        "DKK",
        "ISK",
        "NOK",
        "SEK",
        "RON",
        "BGN",
        "TRY",
        "ILS",
        "CLP",
        "PHP",
        "MXN",
        "ZAR",
        "BRL",
        "MYR",
        "IDR",
        "INR",
        "KRW",
        "CNY",
        "XDR"
       ],
       "description": "currency:",
       "index": 1,
       "layout": "IPY_MODEL_2c5507d85d5a44afa941a55e13919778",
       "style": "IPY_MODEL_36b4412fa21a48029c434d2a929585c6"
      }
     },
     "b46f2e9b28454cf78db5bbea2f8271a4": {
      "model_module": "@jupyter-widgets/controls",
      "model_module_version": "1.5.0",
      "model_name": "DescriptionStyleModel",
      "state": {
       "description_width": ""
      }
     },
     "b7713c90f59647a19c5b81930932b3e3": {
      "model_module": "@jupyter-widgets/controls",
      "model_module_version": "1.5.0",
      "model_name": "SliderStyleModel",
      "state": {
       "description_width": ""
      }
     },
     "b8e4d149ba604a9db30b493dc148b51a": {
      "model_module": "@jupyter-widgets/controls",
      "model_module_version": "1.5.0",
      "model_name": "IntTextModel",
      "state": {
       "description": "Stock:",
       "layout": "IPY_MODEL_934cd0733480446ea59e0d549d694f26",
       "step": 1,
       "style": "IPY_MODEL_0ad0fc50b376424696ae33c6f4bc73b1",
       "value": 1000
      }
     },
     "bb9322a92bb94a63a884d9bdf78d77a8": {
      "model_module": "@jupyter-widgets/controls",
      "model_module_version": "1.5.0",
      "model_name": "SliderStyleModel",
      "state": {
       "description_width": ""
      }
     },
     "bd513efb10904414a6265c7e2ad80e63": {
      "model_module": "@jupyter-widgets/controls",
      "model_module_version": "1.5.0",
      "model_name": "DescriptionStyleModel",
      "state": {
       "description_width": ""
      }
     },
     "be43796b565d441ba5ed6fbdce008419": {
      "model_module": "@jupyter-widgets/controls",
      "model_module_version": "1.5.0",
      "model_name": "DescriptionStyleModel",
      "state": {
       "description_width": ""
      }
     },
     "beea79c4cf0c438f8afee2339a9b522f": {
      "model_module": "@jupyter-widgets/controls",
      "model_module_version": "1.5.0",
      "model_name": "DescriptionStyleModel",
      "state": {
       "description_width": ""
      }
     },
     "bfc83a8e0dc049ce8a949a360021d7a7": {
      "model_module": "@jupyter-widgets/base",
      "model_module_version": "1.2.0",
      "model_name": "LayoutModel",
      "state": {}
     },
     "bfd59587ffe04affba3c99c7d8f88757": {
      "model_module": "@jupyter-widgets/controls",
      "model_module_version": "1.5.0",
      "model_name": "SliderStyleModel",
      "state": {
       "description_width": ""
      }
     },
     "c05682b8d05f4d4a8ed8fe8ed6896eaf": {
      "model_module": "@jupyter-widgets/controls",
      "model_module_version": "1.5.0",
      "model_name": "DropdownModel",
      "state": {
       "_options_labels": [
        "THB",
        "USD",
        "AUD",
        "HKD",
        "CAD",
        "NZD",
        "SGD",
        "EUR",
        "HUF",
        "CHF",
        "GBP",
        "UAH",
        "JPY",
        "CZK",
        "DKK",
        "ISK",
        "NOK",
        "SEK",
        "RON",
        "BGN",
        "TRY",
        "ILS",
        "CLP",
        "PHP",
        "MXN",
        "ZAR",
        "BRL",
        "MYR",
        "IDR",
        "INR",
        "KRW",
        "CNY",
        "XDR"
       ],
       "description": "currency:",
       "index": 2,
       "layout": "IPY_MODEL_46f5c89e236f46509321eef3c35d869b",
       "style": "IPY_MODEL_a9ca6a3f4987409caffd3ae34a54b0f7"
      }
     },
     "c0a434e3e25a4e9695d364e14341f3d8": {
      "model_module": "@jupyter-widgets/controls",
      "model_module_version": "1.5.0",
      "model_name": "FloatSliderModel",
      "state": {
       "continuous_update": false,
       "description": "Percentage stock:",
       "layout": "IPY_MODEL_86a26d26c2da4f19a9982cd1fb111ec6",
       "max": 1,
       "readout_format": ".3f",
       "step": 0.001,
       "style": "IPY_MODEL_c204d16ea4314d8985fe8f5e49ae37d5",
       "value": 0.333
      }
     },
     "c204d16ea4314d8985fe8f5e49ae37d5": {
      "model_module": "@jupyter-widgets/controls",
      "model_module_version": "1.5.0",
      "model_name": "SliderStyleModel",
      "state": {
       "description_width": ""
      }
     },
     "c216bc226a764885852afd655472ed7d": {
      "model_module": "@jupyter-widgets/controls",
      "model_module_version": "1.5.0",
      "model_name": "DescriptionStyleModel",
      "state": {
       "description_width": ""
      }
     },
     "c23bab0a8536418ea8a2df050a96284e": {
      "model_module": "@jupyter-widgets/controls",
      "model_module_version": "1.5.0",
      "model_name": "DescriptionStyleModel",
      "state": {
       "description_width": ""
      }
     },
     "c2ba405152844ffbb04e2c8cdcc788c2": {
      "model_module": "@jupyter-widgets/base",
      "model_module_version": "1.2.0",
      "model_name": "LayoutModel",
      "state": {}
     },
     "c3bb82745ae94787b5b29a27525d3ad7": {
      "model_module": "@jupyter-widgets/base",
      "model_module_version": "1.2.0",
      "model_name": "LayoutModel",
      "state": {}
     },
     "c3e6622391394e6a99b5d35cf2e79f86": {
      "model_module": "@jupyter-widgets/controls",
      "model_module_version": "1.5.0",
      "model_name": "FloatSliderModel",
      "state": {
       "continuous_update": false,
       "description": "Percentage stock:",
       "layout": "IPY_MODEL_1738f3e85bf9493d9b2457bb83306812",
       "max": 1,
       "readout_format": ".3f",
       "step": 0.001,
       "style": "IPY_MODEL_75d102e771e04179a8536665c7c4f167",
       "value": 0.333
      }
     },
     "c46642a04e514915bff62422699317e4": {
      "model_module": "@jupyter-widgets/controls",
      "model_module_version": "1.5.0",
      "model_name": "DropdownModel",
      "state": {
       "_options_labels": [
        "THB",
        "USD",
        "AUD",
        "HKD",
        "CAD",
        "NZD",
        "SGD",
        "EUR",
        "HUF",
        "CHF",
        "GBP",
        "UAH",
        "JPY",
        "CZK",
        "DKK",
        "ISK",
        "NOK",
        "SEK",
        "RON",
        "BGN",
        "TRY",
        "ILS",
        "CLP",
        "PHP",
        "MXN",
        "ZAR",
        "BRL",
        "MYR",
        "IDR",
        "INR",
        "KRW",
        "CNY",
        "XDR"
       ],
       "description": "currency:",
       "index": 31,
       "layout": "IPY_MODEL_c3bb82745ae94787b5b29a27525d3ad7",
       "style": "IPY_MODEL_d1d4005643ac46d2a0d75baff6ecf4d0"
      }
     },
     "c49a11d72c85442fae0c758062334a9b": {
      "model_module": "@jupyter-widgets/controls",
      "model_module_version": "1.5.0",
      "model_name": "DropdownModel",
      "state": {
       "_options_labels": [
        "THB",
        "USD",
        "AUD",
        "HKD",
        "CAD",
        "NZD",
        "SGD",
        "EUR",
        "HUF",
        "CHF",
        "GBP",
        "UAH",
        "JPY",
        "CZK",
        "DKK",
        "ISK",
        "NOK",
        "SEK",
        "RON",
        "BGN",
        "TRY",
        "ILS",
        "CLP",
        "PHP",
        "MXN",
        "ZAR",
        "BRL",
        "MYR",
        "IDR",
        "INR",
        "KRW",
        "CNY",
        "XDR"
       ],
       "description": "currency:",
       "index": 0,
       "layout": "IPY_MODEL_bfc83a8e0dc049ce8a949a360021d7a7",
       "style": "IPY_MODEL_bd513efb10904414a6265c7e2ad80e63"
      }
     },
     "c80c9c8dca864d4fb5218201de961640": {
      "model_module": "@jupyter-widgets/controls",
      "model_module_version": "1.5.0",
      "model_name": "DescriptionStyleModel",
      "state": {
       "description_width": ""
      }
     },
     "c933b249b00e4c82afd1510e1f7b27ed": {
      "model_module": "@jupyter-widgets/controls",
      "model_module_version": "1.5.0",
      "model_name": "DropdownModel",
      "state": {
       "_options_labels": [
        "THB",
        "USD",
        "AUD",
        "HKD",
        "CAD",
        "NZD",
        "SGD",
        "EUR",
        "HUF",
        "CHF",
        "GBP",
        "UAH",
        "JPY",
        "CZK",
        "DKK",
        "ISK",
        "NOK",
        "SEK",
        "RON",
        "BGN",
        "TRY",
        "ILS",
        "CLP",
        "PHP",
        "MXN",
        "ZAR",
        "BRL",
        "MYR",
        "IDR",
        "INR",
        "KRW",
        "CNY",
        "XDR"
       ],
       "description": "currency:",
       "index": 0,
       "layout": "IPY_MODEL_0a65981a1cad47d79bfce14e745fd823",
       "style": "IPY_MODEL_562413b7e1724133ae413c3a231cb5d0"
      }
     },
     "c9474b9da5f6421b8499c0b2521f801d": {
      "model_module": "@jupyter-widgets/controls",
      "model_module_version": "1.5.0",
      "model_name": "DescriptionStyleModel",
      "state": {
       "description_width": ""
      }
     },
     "c9c60b330b394cdb87b56b6a43f5e831": {
      "model_module": "@jupyter-widgets/controls",
      "model_module_version": "1.5.0",
      "model_name": "IntTextModel",
      "state": {
       "description": "Stock:",
       "layout": "IPY_MODEL_564ffcf8bff949ec84718067950b84f1",
       "step": 1,
       "style": "IPY_MODEL_fd6bc0381e814c1ba7d85ab0bc23764a",
       "value": 1000
      }
     },
     "cb495fc1a54f4790a219663a58b77a28": {
      "model_module": "@jupyter-widgets/controls",
      "model_module_version": "1.5.0",
      "model_name": "DescriptionStyleModel",
      "state": {
       "description_width": ""
      }
     },
     "cb99d05624d541bb80db570e8f2696ea": {
      "model_module": "@jupyter-widgets/base",
      "model_module_version": "1.2.0",
      "model_name": "LayoutModel",
      "state": {}
     },
     "cc7318430a9d4e9fa662042f442d2ed7": {
      "model_module": "@jupyter-widgets/base",
      "model_module_version": "1.2.0",
      "model_name": "LayoutModel",
      "state": {}
     },
     "cd2af40975c44dc69fcb6964abe25c59": {
      "model_module": "@jupyter-widgets/controls",
      "model_module_version": "1.5.0",
      "model_name": "DatePickerModel",
      "state": {
       "description": "Pick a Date",
       "disabled": false,
       "layout": "IPY_MODEL_fc87f62826054538873caf75d62fa01e",
       "style": "IPY_MODEL_43759c4df46442e887d65d57779d744f",
       "value": {
        "date": 24,
        "month": 1,
        "year": 2023
       }
      }
     },
     "ce41c717e7b1452593b76665614d6b78": {
      "model_module": "@jupyter-widgets/base",
      "model_module_version": "1.2.0",
      "model_name": "LayoutModel",
      "state": {}
     },
     "ce43691928114504816aa0191808a3d3": {
      "model_module": "@jupyter-widgets/controls",
      "model_module_version": "1.5.0",
      "model_name": "DescriptionStyleModel",
      "state": {
       "description_width": ""
      }
     },
     "d14e2baaae8e49098793cc247f2abb20": {
      "model_module": "@jupyter-widgets/controls",
      "model_module_version": "1.5.0",
      "model_name": "SliderStyleModel",
      "state": {
       "description_width": ""
      }
     },
     "d1d4005643ac46d2a0d75baff6ecf4d0": {
      "model_module": "@jupyter-widgets/controls",
      "model_module_version": "1.5.0",
      "model_name": "DescriptionStyleModel",
      "state": {
       "description_width": ""
      }
     },
     "d2b88cc5d889456297a9ace495074c3f": {
      "model_module": "@jupyter-widgets/base",
      "model_module_version": "1.2.0",
      "model_name": "LayoutModel",
      "state": {}
     },
     "d3ce022e1cb648b1a54b3cfd8125ee99": {
      "model_module": "@jupyter-widgets/base",
      "model_module_version": "1.2.0",
      "model_name": "LayoutModel",
      "state": {}
     },
     "d96205791d5343cbaac4fd12b8bbf1ab": {
      "model_module": "@jupyter-widgets/controls",
      "model_module_version": "1.5.0",
      "model_name": "ButtonStyleModel",
      "state": {}
     },
     "da0f398d7e7f4e0bb649b369258b04fd": {
      "model_module": "@jupyter-widgets/controls",
      "model_module_version": "1.5.0",
      "model_name": "FloatSliderModel",
      "state": {
       "continuous_update": false,
       "description": "Percentage stock:",
       "layout": "IPY_MODEL_e99fa3dc727b4c99a3c081360fd28cac",
       "max": 1,
       "readout_format": ".3f",
       "step": 0.001,
       "style": "IPY_MODEL_1492a6732b8b4e2b8c37ce4cf0810f2d",
       "value": 0.333
      }
     },
     "dd63ea5ca26a4dff9d0f4a7e606d424c": {
      "model_module": "@jupyter-widgets/controls",
      "model_module_version": "1.5.0",
      "model_name": "FloatSliderModel",
      "state": {
       "continuous_update": false,
       "description": "Percentage stock:",
       "layout": "IPY_MODEL_2a8225b2924347c1932b1eb87319a5cf",
       "max": 1,
       "readout_format": ".3f",
       "step": 0.001,
       "style": "IPY_MODEL_5b8e4218c44a4592903f7b7b0ff6a0ab",
       "value": 0.334
      }
     },
     "ded883cbec7e476c914742b33172d19d": {
      "model_module": "@jupyter-widgets/controls",
      "model_module_version": "1.5.0",
      "model_name": "SliderStyleModel",
      "state": {
       "description_width": ""
      }
     },
     "df1c150ffff7484e9e4467b8e4c84f54": {
      "model_module": "@jupyter-widgets/controls",
      "model_module_version": "1.5.0",
      "model_name": "FloatSliderModel",
      "state": {
       "continuous_update": false,
       "description": "Percentage stock:",
       "layout": "IPY_MODEL_9423d923d5fb412e96e9e219e75bec0a",
       "max": 1,
       "readout_format": ".3f",
       "step": 0.001,
       "style": "IPY_MODEL_bfd59587ffe04affba3c99c7d8f88757",
       "value": 0.812
      }
     },
     "df3e986d535f4101a8ab4ba138378cca": {
      "model_module": "@jupyter-widgets/controls",
      "model_module_version": "1.5.0",
      "model_name": "FloatSliderModel",
      "state": {
       "continuous_update": false,
       "description": "Percentage stock:",
       "layout": "IPY_MODEL_62088d0b73ef492989385703c39ce6c8",
       "max": 1,
       "readout_format": ".3f",
       "step": 0.001,
       "style": "IPY_MODEL_d14e2baaae8e49098793cc247f2abb20",
       "value": 0.333
      }
     },
     "df4d8535caf64529809d9baef69b67a6": {
      "model_module": "@jupyter-widgets/base",
      "model_module_version": "1.2.0",
      "model_name": "LayoutModel",
      "state": {}
     },
     "df979246ffa24cafa02f8cc35cb28fee": {
      "model_module": "@jupyter-widgets/controls",
      "model_module_version": "1.5.0",
      "model_name": "SliderStyleModel",
      "state": {
       "description_width": ""
      }
     },
     "dfea18ee3c0e4396a9ef25b4e8007c14": {
      "model_module": "@jupyter-widgets/controls",
      "model_module_version": "1.5.0",
      "model_name": "ButtonModel",
      "state": {
       "description": "Check investiotion!",
       "layout": "IPY_MODEL_577f1627c6c94e818c7322eb2659eb1a",
       "style": "IPY_MODEL_f5d00226012d4cfd8ca242e4778d3f45"
      }
     },
     "e08c35dc82664273be4f786336861505": {
      "model_module": "@jupyter-widgets/base",
      "model_module_version": "1.2.0",
      "model_name": "LayoutModel",
      "state": {}
     },
     "e132b51f857741d0b9de815e6607034e": {
      "model_module": "@jupyter-widgets/controls",
      "model_module_version": "1.5.0",
      "model_name": "SliderStyleModel",
      "state": {
       "description_width": ""
      }
     },
     "e1b390d97aa7408ab6626d4f554faf9d": {
      "model_module": "@jupyter-widgets/base",
      "model_module_version": "1.2.0",
      "model_name": "LayoutModel",
      "state": {}
     },
     "e28beba1cc624e419ca5563d3852bb8c": {
      "model_module": "@jupyter-widgets/base",
      "model_module_version": "1.2.0",
      "model_name": "LayoutModel",
      "state": {}
     },
     "e3d96f6457bb436392af1c5d105b71bc": {
      "model_module": "@jupyter-widgets/base",
      "model_module_version": "1.2.0",
      "model_name": "LayoutModel",
      "state": {}
     },
     "e3deaa7b6e5347c08f6dc48966dea614": {
      "model_module": "@jupyter-widgets/controls",
      "model_module_version": "1.5.0",
      "model_name": "FloatSliderModel",
      "state": {
       "continuous_update": false,
       "description": "Percentage stock:",
       "layout": "IPY_MODEL_8c15c79641c8406ea58649a7443da802",
       "max": 1,
       "readout_format": ".3f",
       "step": 0.001,
       "style": "IPY_MODEL_727e138c37ca4bd1a876e09a14dcd56e",
       "value": 0.334
      }
     },
     "e3fb21abc3d647e7a2391f4b8b8eee24": {
      "model_module": "@jupyter-widgets/base",
      "model_module_version": "1.2.0",
      "model_name": "LayoutModel",
      "state": {}
     },
     "e516aaa9b8604a92bd0b2be7fb6afadc": {
      "model_module": "@jupyter-widgets/controls",
      "model_module_version": "1.5.0",
      "model_name": "IntTextModel",
      "state": {
       "description": "Stock:",
       "layout": "IPY_MODEL_80ff91b310ae423eaef0c0e5ca80dedd",
       "step": 1,
       "style": "IPY_MODEL_9716a7c0c0344e3ba4b33d6492aa4284",
       "value": 1000
      }
     },
     "e5cafccff89844ecaf1708415ecdfa82": {
      "model_module": "@jupyter-widgets/controls",
      "model_module_version": "1.5.0",
      "model_name": "SliderStyleModel",
      "state": {
       "description_width": ""
      }
     },
     "e64fe8fd1cbd4718bdedd0d335ea5cb6": {
      "model_module": "@jupyter-widgets/controls",
      "model_module_version": "1.5.0",
      "model_name": "DropdownModel",
      "state": {
       "_options_labels": [
        "THB",
        "USD",
        "AUD",
        "HKD",
        "CAD",
        "NZD",
        "SGD",
        "EUR",
        "HUF",
        "CHF",
        "GBP",
        "UAH",
        "JPY",
        "CZK",
        "DKK",
        "ISK",
        "NOK",
        "SEK",
        "RON",
        "BGN",
        "TRY",
        "ILS",
        "CLP",
        "PHP",
        "MXN",
        "ZAR",
        "BRL",
        "MYR",
        "IDR",
        "INR",
        "KRW",
        "CNY",
        "XDR"
       ],
       "description": "currency:",
       "index": 1,
       "layout": "IPY_MODEL_7e606f491d6a4456a59916985ab53348",
       "style": "IPY_MODEL_9890d153121a4b9fafc116c14f4c48db"
      }
     },
     "e68e6b74d71b47978dee7c910f8f775e": {
      "model_module": "@jupyter-widgets/controls",
      "model_module_version": "1.5.0",
      "model_name": "ButtonModel",
      "state": {
       "description": "Check investiotion!",
       "layout": "IPY_MODEL_43a8f15146494de3bcba0020b374c687",
       "style": "IPY_MODEL_0dce5cdbb2e14acc9860ee7cf588f4dc"
      }
     },
     "e7ba243061ca49b49ac9006487091523": {
      "model_module": "@jupyter-widgets/base",
      "model_module_version": "1.2.0",
      "model_name": "LayoutModel",
      "state": {}
     },
     "e84f7e27d9f74d31a6eac001e1205679": {
      "model_module": "@jupyter-widgets/base",
      "model_module_version": "1.2.0",
      "model_name": "LayoutModel",
      "state": {}
     },
     "e881e2eec5ea49ec9e7ff489428cf6d2": {
      "model_module": "@jupyter-widgets/controls",
      "model_module_version": "1.5.0",
      "model_name": "DescriptionStyleModel",
      "state": {
       "description_width": ""
      }
     },
     "e9456a6683514d7aa5a1656c69be7860": {
      "model_module": "@jupyter-widgets/base",
      "model_module_version": "1.2.0",
      "model_name": "LayoutModel",
      "state": {}
     },
     "e99fa3dc727b4c99a3c081360fd28cac": {
      "model_module": "@jupyter-widgets/base",
      "model_module_version": "1.2.0",
      "model_name": "LayoutModel",
      "state": {}
     },
     "eabc6cd039564e1486686107e3a139f2": {
      "model_module": "@jupyter-widgets/base",
      "model_module_version": "1.2.0",
      "model_name": "LayoutModel",
      "state": {}
     },
     "eda8bc7cfa804c8abdaf95dca0df4519": {
      "model_module": "@jupyter-widgets/controls",
      "model_module_version": "1.5.0",
      "model_name": "DropdownModel",
      "state": {
       "_options_labels": [
        "THB",
        "USD",
        "AUD",
        "HKD",
        "CAD",
        "NZD",
        "SGD",
        "EUR",
        "HUF",
        "CHF",
        "GBP",
        "UAH",
        "JPY",
        "CZK",
        "DKK",
        "ISK",
        "NOK",
        "SEK",
        "RON",
        "BGN",
        "TRY",
        "ILS",
        "CLP",
        "PHP",
        "MXN",
        "ZAR",
        "BRL",
        "MYR",
        "IDR",
        "INR",
        "KRW",
        "CNY",
        "XDR"
       ],
       "description": "currency:",
       "index": 2,
       "layout": "IPY_MODEL_24a6da9ec9a04de3acf1355941e173ca",
       "style": "IPY_MODEL_2ccf82ef2d2c4b7f8b72b69ade636381"
      }
     },
     "f0d48ca305994364a6e2022b22d201c1": {
      "model_module": "@jupyter-widgets/base",
      "model_module_version": "1.2.0",
      "model_name": "LayoutModel",
      "state": {}
     },
     "f1a3152ed1224fcb9caac4b6450bd373": {
      "model_module": "@jupyter-widgets/controls",
      "model_module_version": "1.5.0",
      "model_name": "ButtonModel",
      "state": {
       "description": "Check investiotion!",
       "layout": "IPY_MODEL_eabc6cd039564e1486686107e3a139f2",
       "style": "IPY_MODEL_3fccf7b16c834d2e838323cd2ff85b88"
      }
     },
     "f1a8161a7c704124880332f58cc402fd": {
      "model_module": "@jupyter-widgets/base",
      "model_module_version": "1.2.0",
      "model_name": "LayoutModel",
      "state": {}
     },
     "f1d3ed1637174e8ca0dca20acd070d7a": {
      "model_module": "@jupyter-widgets/controls",
      "model_module_version": "1.5.0",
      "model_name": "DropdownModel",
      "state": {
       "_options_labels": [
        "THB",
        "USD",
        "AUD",
        "HKD",
        "CAD",
        "NZD",
        "SGD",
        "EUR",
        "HUF",
        "CHF",
        "GBP",
        "UAH",
        "JPY",
        "CZK",
        "DKK",
        "ISK",
        "NOK",
        "SEK",
        "RON",
        "BGN",
        "TRY",
        "ILS",
        "CLP",
        "PHP",
        "MXN",
        "ZAR",
        "BRL",
        "MYR",
        "IDR",
        "INR",
        "KRW",
        "CNY",
        "XDR"
       ],
       "description": "currency:",
       "index": 0,
       "layout": "IPY_MODEL_7281dce02e404f5b873a65cdcabdf856",
       "style": "IPY_MODEL_16fe3b2630404b9d9752bb92f3059063"
      }
     },
     "f1d605be6bdc47ad90ed470267867aef": {
      "model_module": "@jupyter-widgets/controls",
      "model_module_version": "1.5.0",
      "model_name": "ButtonStyleModel",
      "state": {}
     },
     "f39c1d40d97d43a48f91ae74058be0ab": {
      "model_module": "@jupyter-widgets/controls",
      "model_module_version": "1.5.0",
      "model_name": "FloatSliderModel",
      "state": {
       "continuous_update": false,
       "description": "Percentage stock:",
       "layout": "IPY_MODEL_783688324f044d2ea195315a66399b34",
       "max": 1,
       "readout_format": ".3f",
       "step": 0.001,
       "style": "IPY_MODEL_9d364582f9a1426cbc3e7cdab265d679",
       "value": 0.333
      }
     },
     "f53f1a8ba45248f2aa5b9e232e917502": {
      "model_module": "@jupyter-widgets/controls",
      "model_module_version": "1.5.0",
      "model_name": "ButtonModel",
      "state": {
       "description": "Check investiotion!",
       "layout": "IPY_MODEL_7ea7456e2f92400a8c71420e9b0e68f9",
       "style": "IPY_MODEL_d96205791d5343cbaac4fd12b8bbf1ab"
      }
     },
     "f5d00226012d4cfd8ca242e4778d3f45": {
      "model_module": "@jupyter-widgets/controls",
      "model_module_version": "1.5.0",
      "model_name": "ButtonStyleModel",
      "state": {}
     },
     "f7bec1c2af4a4f2788d43f52347e1a03": {
      "model_module": "@jupyter-widgets/controls",
      "model_module_version": "1.5.0",
      "model_name": "DescriptionStyleModel",
      "state": {
       "description_width": ""
      }
     },
     "f87a8bd110d947478d01460d2fccac74": {
      "model_module": "@jupyter-widgets/base",
      "model_module_version": "1.2.0",
      "model_name": "LayoutModel",
      "state": {}
     },
     "f93afc3ee4354270b898a664a7f85b9e": {
      "model_module": "@jupyter-widgets/controls",
      "model_module_version": "1.5.0",
      "model_name": "ButtonStyleModel",
      "state": {}
     },
     "f94a28e91afe4549a06b55c7476337cd": {
      "model_module": "@jupyter-widgets/controls",
      "model_module_version": "1.5.0",
      "model_name": "SliderStyleModel",
      "state": {
       "description_width": ""
      }
     },
     "f95ae3fee86f49a4a67bec63e20ee640": {
      "model_module": "@jupyter-widgets/output",
      "model_module_version": "1.0.0",
      "model_name": "OutputModel",
      "state": {
       "layout": "IPY_MODEL_e3d96f6457bb436392af1c5d105b71bc",
       "outputs": [
        {
         "name": "stdout",
         "output_type": "stream",
         "text": "Output generated!\nInvestition report start date:\n2023-02-24\nInvestition report end date:\n2023-03-26\nInvestition input data:\nTHB\n0.333\nUSD\n0.333\nAUD\n0.334\nInvestition output data:\nTHB in stock: 333.0. pct: 0.3285511965725135\nUSD in stock: 339.7601847194916. pct: 0.3352210667786402\nAUD in stock: 340.7804855745049. pct: 0.3362277366488462\nStock value: 1013.5406702939965\n"
        }
       ]
      }
     },
     "fc87f62826054538873caf75d62fa01e": {
      "model_module": "@jupyter-widgets/base",
      "model_module_version": "1.2.0",
      "model_name": "LayoutModel",
      "state": {}
     },
     "fd62c974f525473bb7b047d841dc96af": {
      "model_module": "@jupyter-widgets/controls",
      "model_module_version": "1.5.0",
      "model_name": "DropdownModel",
      "state": {
       "_options_labels": [
        "THB",
        "USD",
        "AUD",
        "HKD",
        "CAD",
        "NZD",
        "SGD",
        "EUR",
        "HUF",
        "CHF",
        "GBP",
        "UAH",
        "JPY",
        "CZK",
        "DKK",
        "ISK",
        "NOK",
        "SEK",
        "RON",
        "BGN",
        "TRY",
        "ILS",
        "CLP",
        "PHP",
        "MXN",
        "ZAR",
        "BRL",
        "MYR",
        "IDR",
        "INR",
        "KRW",
        "CNY",
        "XDR"
       ],
       "description": "currency:",
       "index": 1,
       "layout": "IPY_MODEL_0b4e662ea8f64169ada6437cb25d8a8f",
       "style": "IPY_MODEL_cb495fc1a54f4790a219663a58b77a28"
      }
     },
     "fd6bc0381e814c1ba7d85ab0bc23764a": {
      "model_module": "@jupyter-widgets/controls",
      "model_module_version": "1.5.0",
      "model_name": "DescriptionStyleModel",
      "state": {
       "description_width": ""
      }
     },
     "ffa02c58e99e40a8ba49573cfe1f9f06": {
      "model_module": "@jupyter-widgets/base",
      "model_module_version": "1.2.0",
      "model_name": "LayoutModel",
      "state": {}
     }
    },
    "version_major": 2,
    "version_minor": 0
   }
  }
 },
 "nbformat": 4,
 "nbformat_minor": 5
}
